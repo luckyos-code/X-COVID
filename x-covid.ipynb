{
  "nbformat": 4,
  "nbformat_minor": 0,
  "metadata": {
    "colab": {
      "name": "x-covid.ipynb",
      "provenance": [],
      "collapsed_sections": [],
      "authorship_tag": "ABX9TyNdEuna4aA/7tDZZZgNNjsJ",
      "include_colab_link": true
    },
    "kernelspec": {
      "name": "python3",
      "display_name": "Python 3"
    },
    "accelerator": "GPU"
  },
  "cells": [
    {
      "cell_type": "markdown",
      "metadata": {
        "id": "view-in-github",
        "colab_type": "text"
      },
      "source": [
        "<a href=\"https://colab.research.google.com/github/luckyos-code/X-COVID/blob/main/x-covid.ipynb\" target=\"_parent\"><img src=\"https://colab.research.google.com/assets/colab-badge.svg\" alt=\"Open In Colab\"/></a>"
      ]
    },
    {
      "cell_type": "markdown",
      "metadata": {
        "id": "Ftwh4pLJlAX-"
      },
      "source": [
        "# **X-COVID**\n",
        "<a target='_blank' href='https://colab.research.google.com/github/luckyos-code/X-COVID/blob/master/x-covid.ipynb'><img src='https://www.tensorflow.org/images/colab_logo_32px.png' />Run in Google Colab</a>\n",
        " <a target='_blank' href='https://github.com/luckyos-code/X-COVID'><img src='https://www.tensorflow.org/images/GitHub-Mark-32px.png' />View source on GitHub</a>"
      ]
    },
    {
      "cell_type": "markdown",
      "metadata": {
        "id": "x7JW49t26X0P"
      },
      "source": [
        "##### Notebook settings"
      ]
    },
    {
      "cell_type": "code",
      "metadata": {
        "id": "RBIvImfCIDZM"
      },
      "source": [
        "%reload_ext autoreload\n",
        "%autoreload 2\n",
        "%matplotlib inline"
      ],
      "execution_count": null,
      "outputs": []
    },
    {
      "cell_type": "markdown",
      "metadata": {
        "id": "tPgPDDVYD_Dc"
      },
      "source": [
        "## Prerequisites"
      ]
    },
    {
      "cell_type": "markdown",
      "metadata": {
        "id": "vWIkWqjezUjc"
      },
      "source": [
        "###### Init Kaggle-API\n",
        "**Important:** Before running the cells below follow [this](https://stackoverflow.com/questions/49310470/using-kaggle-datasets-in-google-colab) stackoverflow questions accepted answer to get the kaggle.json file. Once you have the json file on your local machine,run the code below and upload the json file when prompted in the output cell. ([credit](https://github.com/mobassir94/Practicing-Tensorflow/blob/master/kaggle_Pneumonia_Detection.ipynb))\n",
        "\n",
        "**Important:** Before running the cells below follow [this link](https://www.kaggle.com/c/rsna-pneumonia-detection-challenge) click on 'Late Submission' and when prompted accept the competition rules."
      ]
    },
    {
      "cell_type": "code",
      "metadata": {
        "id": "IQQxkLtPzYRu",
        "colab": {
          "resources": {
            "http://localhost:8080/nbextensions/google.colab/files.js": {
              "data": "Ly8gQ29weXJpZ2h0IDIwMTcgR29vZ2xlIExMQwovLwovLyBMaWNlbnNlZCB1bmRlciB0aGUgQXBhY2hlIExpY2Vuc2UsIFZlcnNpb24gMi4wICh0aGUgIkxpY2Vuc2UiKTsKLy8geW91IG1heSBub3QgdXNlIHRoaXMgZmlsZSBleGNlcHQgaW4gY29tcGxpYW5jZSB3aXRoIHRoZSBMaWNlbnNlLgovLyBZb3UgbWF5IG9idGFpbiBhIGNvcHkgb2YgdGhlIExpY2Vuc2UgYXQKLy8KLy8gICAgICBodHRwOi8vd3d3LmFwYWNoZS5vcmcvbGljZW5zZXMvTElDRU5TRS0yLjAKLy8KLy8gVW5sZXNzIHJlcXVpcmVkIGJ5IGFwcGxpY2FibGUgbGF3IG9yIGFncmVlZCB0byBpbiB3cml0aW5nLCBzb2Z0d2FyZQovLyBkaXN0cmlidXRlZCB1bmRlciB0aGUgTGljZW5zZSBpcyBkaXN0cmlidXRlZCBvbiBhbiAiQVMgSVMiIEJBU0lTLAovLyBXSVRIT1VUIFdBUlJBTlRJRVMgT1IgQ09ORElUSU9OUyBPRiBBTlkgS0lORCwgZWl0aGVyIGV4cHJlc3Mgb3IgaW1wbGllZC4KLy8gU2VlIHRoZSBMaWNlbnNlIGZvciB0aGUgc3BlY2lmaWMgbGFuZ3VhZ2UgZ292ZXJuaW5nIHBlcm1pc3Npb25zIGFuZAovLyBsaW1pdGF0aW9ucyB1bmRlciB0aGUgTGljZW5zZS4KCi8qKgogKiBAZmlsZW92ZXJ2aWV3IEhlbHBlcnMgZm9yIGdvb2dsZS5jb2xhYiBQeXRob24gbW9kdWxlLgogKi8KKGZ1bmN0aW9uKHNjb3BlKSB7CmZ1bmN0aW9uIHNwYW4odGV4dCwgc3R5bGVBdHRyaWJ1dGVzID0ge30pIHsKICBjb25zdCBlbGVtZW50ID0gZG9jdW1lbnQuY3JlYXRlRWxlbWVudCgnc3BhbicpOwogIGVsZW1lbnQudGV4dENvbnRlbnQgPSB0ZXh0OwogIGZvciAoY29uc3Qga2V5IG9mIE9iamVjdC5rZXlzKHN0eWxlQXR0cmlidXRlcykpIHsKICAgIGVsZW1lbnQuc3R5bGVba2V5XSA9IHN0eWxlQXR0cmlidXRlc1trZXldOwogIH0KICByZXR1cm4gZWxlbWVudDsKfQoKLy8gTWF4IG51bWJlciBvZiBieXRlcyB3aGljaCB3aWxsIGJlIHVwbG9hZGVkIGF0IGEgdGltZS4KY29uc3QgTUFYX1BBWUxPQURfU0laRSA9IDEwMCAqIDEwMjQ7CgpmdW5jdGlvbiBfdXBsb2FkRmlsZXMoaW5wdXRJZCwgb3V0cHV0SWQpIHsKICBjb25zdCBzdGVwcyA9IHVwbG9hZEZpbGVzU3RlcChpbnB1dElkLCBvdXRwdXRJZCk7CiAgY29uc3Qgb3V0cHV0RWxlbWVudCA9IGRvY3VtZW50LmdldEVsZW1lbnRCeUlkKG91dHB1dElkKTsKICAvLyBDYWNoZSBzdGVwcyBvbiB0aGUgb3V0cHV0RWxlbWVudCB0byBtYWtlIGl0IGF2YWlsYWJsZSBmb3IgdGhlIG5leHQgY2FsbAogIC8vIHRvIHVwbG9hZEZpbGVzQ29udGludWUgZnJvbSBQeXRob24uCiAgb3V0cHV0RWxlbWVudC5zdGVwcyA9IHN0ZXBzOwoKICByZXR1cm4gX3VwbG9hZEZpbGVzQ29udGludWUob3V0cHV0SWQpOwp9CgovLyBUaGlzIGlzIHJvdWdobHkgYW4gYXN5bmMgZ2VuZXJhdG9yIChub3Qgc3VwcG9ydGVkIGluIHRoZSBicm93c2VyIHlldCksCi8vIHdoZXJlIHRoZXJlIGFyZSBtdWx0aXBsZSBhc3luY2hyb25vdXMgc3RlcHMgYW5kIHRoZSBQeXRob24gc2lkZSBpcyBnb2luZwovLyB0byBwb2xsIGZvciBjb21wbGV0aW9uIG9mIGVhY2ggc3RlcC4KLy8gVGhpcyB1c2VzIGEgUHJvbWlzZSB0byBibG9jayB0aGUgcHl0aG9uIHNpZGUgb24gY29tcGxldGlvbiBvZiBlYWNoIHN0ZXAsCi8vIHRoZW4gcGFzc2VzIHRoZSByZXN1bHQgb2YgdGhlIHByZXZpb3VzIHN0ZXAgYXMgdGhlIGlucHV0IHRvIHRoZSBuZXh0IHN0ZXAuCmZ1bmN0aW9uIF91cGxvYWRGaWxlc0NvbnRpbnVlKG91dHB1dElkKSB7CiAgY29uc3Qgb3V0cHV0RWxlbWVudCA9IGRvY3VtZW50LmdldEVsZW1lbnRCeUlkKG91dHB1dElkKTsKICBjb25zdCBzdGVwcyA9IG91dHB1dEVsZW1lbnQuc3RlcHM7CgogIGNvbnN0IG5leHQgPSBzdGVwcy5uZXh0KG91dHB1dEVsZW1lbnQubGFzdFByb21pc2VWYWx1ZSk7CiAgcmV0dXJuIFByb21pc2UucmVzb2x2ZShuZXh0LnZhbHVlLnByb21pc2UpLnRoZW4oKHZhbHVlKSA9PiB7CiAgICAvLyBDYWNoZSB0aGUgbGFzdCBwcm9taXNlIHZhbHVlIHRvIG1ha2UgaXQgYXZhaWxhYmxlIHRvIHRoZSBuZXh0CiAgICAvLyBzdGVwIG9mIHRoZSBnZW5lcmF0b3IuCiAgICBvdXRwdXRFbGVtZW50Lmxhc3RQcm9taXNlVmFsdWUgPSB2YWx1ZTsKICAgIHJldHVybiBuZXh0LnZhbHVlLnJlc3BvbnNlOwogIH0pOwp9CgovKioKICogR2VuZXJhdG9yIGZ1bmN0aW9uIHdoaWNoIGlzIGNhbGxlZCBiZXR3ZWVuIGVhY2ggYXN5bmMgc3RlcCBvZiB0aGUgdXBsb2FkCiAqIHByb2Nlc3MuCiAqIEBwYXJhbSB7c3RyaW5nfSBpbnB1dElkIEVsZW1lbnQgSUQgb2YgdGhlIGlucHV0IGZpbGUgcGlja2VyIGVsZW1lbnQuCiAqIEBwYXJhbSB7c3RyaW5nfSBvdXRwdXRJZCBFbGVtZW50IElEIG9mIHRoZSBvdXRwdXQgZGlzcGxheS4KICogQHJldHVybiB7IUl0ZXJhYmxlPCFPYmplY3Q+fSBJdGVyYWJsZSBvZiBuZXh0IHN0ZXBzLgogKi8KZnVuY3Rpb24qIHVwbG9hZEZpbGVzU3RlcChpbnB1dElkLCBvdXRwdXRJZCkgewogIGNvbnN0IGlucHV0RWxlbWVudCA9IGRvY3VtZW50LmdldEVsZW1lbnRCeUlkKGlucHV0SWQpOwogIGlucHV0RWxlbWVudC5kaXNhYmxlZCA9IGZhbHNlOwoKICBjb25zdCBvdXRwdXRFbGVtZW50ID0gZG9jdW1lbnQuZ2V0RWxlbWVudEJ5SWQob3V0cHV0SWQpOwogIG91dHB1dEVsZW1lbnQuaW5uZXJIVE1MID0gJyc7CgogIGNvbnN0IHBpY2tlZFByb21pc2UgPSBuZXcgUHJvbWlzZSgocmVzb2x2ZSkgPT4gewogICAgaW5wdXRFbGVtZW50LmFkZEV2ZW50TGlzdGVuZXIoJ2NoYW5nZScsIChlKSA9PiB7CiAgICAgIHJlc29sdmUoZS50YXJnZXQuZmlsZXMpOwogICAgfSk7CiAgfSk7CgogIGNvbnN0IGNhbmNlbCA9IGRvY3VtZW50LmNyZWF0ZUVsZW1lbnQoJ2J1dHRvbicpOwogIGlucHV0RWxlbWVudC5wYXJlbnRFbGVtZW50LmFwcGVuZENoaWxkKGNhbmNlbCk7CiAgY2FuY2VsLnRleHRDb250ZW50ID0gJ0NhbmNlbCB1cGxvYWQnOwogIGNvbnN0IGNhbmNlbFByb21pc2UgPSBuZXcgUHJvbWlzZSgocmVzb2x2ZSkgPT4gewogICAgY2FuY2VsLm9uY2xpY2sgPSAoKSA9PiB7CiAgICAgIHJlc29sdmUobnVsbCk7CiAgICB9OwogIH0pOwoKICAvLyBXYWl0IGZvciB0aGUgdXNlciB0byBwaWNrIHRoZSBmaWxlcy4KICBjb25zdCBmaWxlcyA9IHlpZWxkIHsKICAgIHByb21pc2U6IFByb21pc2UucmFjZShbcGlja2VkUHJvbWlzZSwgY2FuY2VsUHJvbWlzZV0pLAogICAgcmVzcG9uc2U6IHsKICAgICAgYWN0aW9uOiAnc3RhcnRpbmcnLAogICAgfQogIH07CgogIGNhbmNlbC5yZW1vdmUoKTsKCiAgLy8gRGlzYWJsZSB0aGUgaW5wdXQgZWxlbWVudCBzaW5jZSBmdXJ0aGVyIHBpY2tzIGFyZSBub3QgYWxsb3dlZC4KICBpbnB1dEVsZW1lbnQuZGlzYWJsZWQgPSB0cnVlOwoKICBpZiAoIWZpbGVzKSB7CiAgICByZXR1cm4gewogICAgICByZXNwb25zZTogewogICAgICAgIGFjdGlvbjogJ2NvbXBsZXRlJywKICAgICAgfQogICAgfTsKICB9CgogIGZvciAoY29uc3QgZmlsZSBvZiBmaWxlcykgewogICAgY29uc3QgbGkgPSBkb2N1bWVudC5jcmVhdGVFbGVtZW50KCdsaScpOwogICAgbGkuYXBwZW5kKHNwYW4oZmlsZS5uYW1lLCB7Zm9udFdlaWdodDogJ2JvbGQnfSkpOwogICAgbGkuYXBwZW5kKHNwYW4oCiAgICAgICAgYCgke2ZpbGUudHlwZSB8fCAnbi9hJ30pIC0gJHtmaWxlLnNpemV9IGJ5dGVzLCBgICsKICAgICAgICBgbGFzdCBtb2RpZmllZDogJHsKICAgICAgICAgICAgZmlsZS5sYXN0TW9kaWZpZWREYXRlID8gZmlsZS5sYXN0TW9kaWZpZWREYXRlLnRvTG9jYWxlRGF0ZVN0cmluZygpIDoKICAgICAgICAgICAgICAgICAgICAgICAgICAgICAgICAgICAgJ24vYSd9IC0gYCkpOwogICAgY29uc3QgcGVyY2VudCA9IHNwYW4oJzAlIGRvbmUnKTsKICAgIGxpLmFwcGVuZENoaWxkKHBlcmNlbnQpOwoKICAgIG91dHB1dEVsZW1lbnQuYXBwZW5kQ2hpbGQobGkpOwoKICAgIGNvbnN0IGZpbGVEYXRhUHJvbWlzZSA9IG5ldyBQcm9taXNlKChyZXNvbHZlKSA9PiB7CiAgICAgIGNvbnN0IHJlYWRlciA9IG5ldyBGaWxlUmVhZGVyKCk7CiAgICAgIHJlYWRlci5vbmxvYWQgPSAoZSkgPT4gewogICAgICAgIHJlc29sdmUoZS50YXJnZXQucmVzdWx0KTsKICAgICAgfTsKICAgICAgcmVhZGVyLnJlYWRBc0FycmF5QnVmZmVyKGZpbGUpOwogICAgfSk7CiAgICAvLyBXYWl0IGZvciB0aGUgZGF0YSB0byBiZSByZWFkeS4KICAgIGxldCBmaWxlRGF0YSA9IHlpZWxkIHsKICAgICAgcHJvbWlzZTogZmlsZURhdGFQcm9taXNlLAogICAgICByZXNwb25zZTogewogICAgICAgIGFjdGlvbjogJ2NvbnRpbnVlJywKICAgICAgfQogICAgfTsKCiAgICAvLyBVc2UgYSBjaHVua2VkIHNlbmRpbmcgdG8gYXZvaWQgbWVzc2FnZSBzaXplIGxpbWl0cy4gU2VlIGIvNjIxMTU2NjAuCiAgICBsZXQgcG9zaXRpb24gPSAwOwogICAgd2hpbGUgKHBvc2l0aW9uIDwgZmlsZURhdGEuYnl0ZUxlbmd0aCkgewogICAgICBjb25zdCBsZW5ndGggPSBNYXRoLm1pbihmaWxlRGF0YS5ieXRlTGVuZ3RoIC0gcG9zaXRpb24sIE1BWF9QQVlMT0FEX1NJWkUpOwogICAgICBjb25zdCBjaHVuayA9IG5ldyBVaW50OEFycmF5KGZpbGVEYXRhLCBwb3NpdGlvbiwgbGVuZ3RoKTsKICAgICAgcG9zaXRpb24gKz0gbGVuZ3RoOwoKICAgICAgY29uc3QgYmFzZTY0ID0gYnRvYShTdHJpbmcuZnJvbUNoYXJDb2RlLmFwcGx5KG51bGwsIGNodW5rKSk7CiAgICAgIHlpZWxkIHsKICAgICAgICByZXNwb25zZTogewogICAgICAgICAgYWN0aW9uOiAnYXBwZW5kJywKICAgICAgICAgIGZpbGU6IGZpbGUubmFtZSwKICAgICAgICAgIGRhdGE6IGJhc2U2NCwKICAgICAgICB9LAogICAgICB9OwogICAgICBwZXJjZW50LnRleHRDb250ZW50ID0KICAgICAgICAgIGAke01hdGgucm91bmQoKHBvc2l0aW9uIC8gZmlsZURhdGEuYnl0ZUxlbmd0aCkgKiAxMDApfSUgZG9uZWA7CiAgICB9CiAgfQoKICAvLyBBbGwgZG9uZS4KICB5aWVsZCB7CiAgICByZXNwb25zZTogewogICAgICBhY3Rpb246ICdjb21wbGV0ZScsCiAgICB9CiAgfTsKfQoKc2NvcGUuZ29vZ2xlID0gc2NvcGUuZ29vZ2xlIHx8IHt9OwpzY29wZS5nb29nbGUuY29sYWIgPSBzY29wZS5nb29nbGUuY29sYWIgfHwge307CnNjb3BlLmdvb2dsZS5jb2xhYi5fZmlsZXMgPSB7CiAgX3VwbG9hZEZpbGVzLAogIF91cGxvYWRGaWxlc0NvbnRpbnVlLAp9Owp9KShzZWxmKTsK",
              "ok": true,
              "headers": [
                [
                  "content-type",
                  "application/javascript"
                ]
              ],
              "status": 200,
              "status_text": "OK"
            }
          },
          "base_uri": "https://localhost:8080/",
          "height": 129
        },
        "outputId": "488e61a4-639e-49e6-c01f-41723df4b47c"
      },
      "source": [
        "!pip uninstall -q -y kaggle\n",
        "!pip install -q --upgrade pip\n",
        "!pip install -q kaggle==1.5.6\n",
        "!mkdir  /root/.kaggle\n",
        "from google.colab import files as colab\n",
        "colab.upload()\n",
        "!cp kaggle.json /root/.kaggle && chmod 600 /root/.kaggle/kaggle.json\n",
        "!rm kaggle.json"
      ],
      "execution_count": null,
      "outputs": [
        {
          "output_type": "stream",
          "text": [
            "\u001b[K     |████████████████████████████████| 1.5MB 22.8MB/s \n",
            "\u001b[K     |████████████████████████████████| 58 kB 5.3 MB/s \n",
            "\u001b[?25h  Building wheel for kaggle (setup.py) ... \u001b[?25l\u001b[?25hdone\n"
          ],
          "name": "stdout"
        },
        {
          "output_type": "display_data",
          "data": {
            "text/html": [
              "\n",
              "     <input type=\"file\" id=\"files-3b5c27e3-38c6-4431-aefe-277f692821bf\" name=\"files[]\" multiple disabled\n",
              "        style=\"border:none\" />\n",
              "     <output id=\"result-3b5c27e3-38c6-4431-aefe-277f692821bf\">\n",
              "      Upload widget is only available when the cell has been executed in the\n",
              "      current browser session. Please rerun this cell to enable.\n",
              "      </output>\n",
              "      <script src=\"/nbextensions/google.colab/files.js\"></script> "
            ],
            "text/plain": [
              "<IPython.core.display.HTML object>"
            ]
          },
          "metadata": {
            "tags": []
          }
        },
        {
          "output_type": "stream",
          "text": [
            "Saving kaggle.json to kaggle.json\n"
          ],
          "name": "stdout"
        }
      ]
    },
    {
      "cell_type": "markdown",
      "metadata": {
        "id": "E34N6Rh2EEES"
      },
      "source": [
        "##### Download datasets"
      ]
    },
    {
      "cell_type": "markdown",
      "metadata": {
        "id": "Abs5BpzYWMtn"
      },
      "source": [
        "###### *COVIDx dataset* [Github](https://github.com/lindawangg/COVID-Net) "
      ]
    },
    {
      "cell_type": "code",
      "metadata": {
        "id": "kVp9tnOoWGRs",
        "colab": {
          "base_uri": "https://localhost:8080/"
        },
        "outputId": "a634785f-7cbd-48f9-8322-f1f23c6953db"
      },
      "source": [
        "!git clone https://github.com/lindawangg/COVID-Net"
      ],
      "execution_count": null,
      "outputs": [
        {
          "output_type": "stream",
          "text": [
            "Cloning into 'COVID-Net'...\n",
            "remote: Enumerating objects: 121, done.\u001b[K\n",
            "remote: Counting objects: 100% (121/121), done.\u001b[K\n",
            "remote: Compressing objects: 100% (94/94), done.\u001b[K\n",
            "remote: Total 599 (delta 67), reused 54 (delta 27), pack-reused 478\u001b[K\n",
            "Receiving objects: 100% (599/599), 7.30 MiB | 34.60 MiB/s, done.\n",
            "Resolving deltas: 100% (352/352), done.\n"
          ],
          "name": "stdout"
        }
      ]
    },
    {
      "cell_type": "markdown",
      "metadata": {
        "id": "lpCPwoYMLqd6"
      },
      "source": [
        "###### *COVID-19 image data collection*\n",
        "J.P. Cohen, P. Morrison, L. Dao.\n",
        "COVID-19 image data collection.\n",
        "(2020)\n",
        "[Github](https://github.com/ieee8023/covid-chestxray-dataset)\n",
        "[Google Scholar](https://scholar.google.com/scholar_lookup?title=COVID-19%20image%20data%20collection&publication_year=2020&author=J.P.%20Cohen&author=P.%20Morrison&author=L.%20Dao)"
      ]
    },
    {
      "cell_type": "code",
      "metadata": {
        "id": "HyNS_N4IITIr",
        "colab": {
          "base_uri": "https://localhost:8080/"
        },
        "outputId": "126b6bd4-014b-45d1-b9a9-1c9968d06c42"
      },
      "source": [
        "!git clone https://github.com/ieee8023/covid-chestxray-dataset.git"
      ],
      "execution_count": null,
      "outputs": [
        {
          "output_type": "stream",
          "text": [
            "Cloning into 'covid-chestxray-dataset'...\n",
            "remote: Enumerating objects: 15, done.\u001b[K\n",
            "remote: Counting objects: 100% (15/15), done.\u001b[K\n",
            "remote: Compressing objects: 100% (10/10), done.\u001b[K\n",
            "remote: Total 3614 (delta 7), reused 11 (delta 5), pack-reused 3599\u001b[K\n",
            "Receiving objects: 100% (3614/3614), 633.00 MiB | 43.17 MiB/s, done.\n",
            "Resolving deltas: 100% (1430/1430), done.\n",
            "Checking out files: 100% (1173/1173), done.\n"
          ],
          "name": "stdout"
        }
      ]
    },
    {
      "cell_type": "markdown",
      "metadata": {
        "id": "FzoSYW48J-MM"
      },
      "source": [
        "###### *Figure 1 COVID-19 Chest X-ray Dataset Initiative* [Github](https://github.com/agchung/Figure1-COVID-chestxray-dataset)"
      ]
    },
    {
      "cell_type": "code",
      "metadata": {
        "id": "qRyff9lZKBTv",
        "colab": {
          "base_uri": "https://localhost:8080/"
        },
        "outputId": "b26d4cab-58a1-4287-8cad-d52bb6fda462"
      },
      "source": [
        "!git clone https://github.com/agchung/Figure1-COVID-chestxray-dataset.git"
      ],
      "execution_count": null,
      "outputs": [
        {
          "output_type": "stream",
          "text": [
            "Cloning into 'Figure1-COVID-chestxray-dataset'...\n",
            "remote: Enumerating objects: 112, done.\u001b[K\n",
            "remote: Counting objects: 100% (112/112), done.\u001b[K\n",
            "remote: Compressing objects: 100% (97/97), done.\u001b[K\n",
            "remote: Total 112 (delta 28), reused 95 (delta 14), pack-reused 0\u001b[K\n",
            "Receiving objects: 100% (112/112), 14.13 MiB | 42.30 MiB/s, done.\n",
            "Resolving deltas: 100% (28/28), done.\n"
          ],
          "name": "stdout"
        }
      ]
    },
    {
      "cell_type": "markdown",
      "metadata": {
        "id": "o7-OqkgeJ_9I"
      },
      "source": [
        "###### *Actualmed COVID-19 Chest X-ray Dataset Initiative* [Github](https://github.com/agchung/Actualmed-COVID-chestxray-dataset)\n"
      ]
    },
    {
      "cell_type": "code",
      "metadata": {
        "id": "1cojDRHgKBoh",
        "colab": {
          "base_uri": "https://localhost:8080/"
        },
        "outputId": "f9f29b4e-9ae7-4d28-cc2f-8fb356b5fa20"
      },
      "source": [
        "!git clone https://github.com/agchung/Actualmed-COVID-chestxray-dataset.git"
      ],
      "execution_count": null,
      "outputs": [
        {
          "output_type": "stream",
          "text": [
            "Cloning into 'Actualmed-COVID-chestxray-dataset'...\n",
            "remote: Enumerating objects: 10, done.\u001b[K\n",
            "remote: Counting objects:  10% (1/10)\u001b[K\rremote: Counting objects:  20% (2/10)\u001b[K\rremote: Counting objects:  30% (3/10)\u001b[K\rremote: Counting objects:  40% (4/10)\u001b[K\rremote: Counting objects:  50% (5/10)\u001b[K\rremote: Counting objects:  60% (6/10)\u001b[K\rremote: Counting objects:  70% (7/10)\u001b[K\rremote: Counting objects:  80% (8/10)\u001b[K\rremote: Counting objects:  90% (9/10)\u001b[K\rremote: Counting objects: 100% (10/10)\u001b[K\rremote: Counting objects: 100% (10/10), done.\u001b[K\n",
            "remote: Compressing objects: 100% (9/9), done.\u001b[K\n",
            "remote: Total 422 (delta 1), reused 6 (delta 1), pack-reused 412\u001b[K\n",
            "Receiving objects: 100% (422/422), 1.56 GiB | 32.11 MiB/s, done.\n",
            "Resolving deltas: 100% (16/16), done.\n",
            "Checking out files: 100% (240/240), done.\n"
          ],
          "name": "stdout"
        }
      ]
    },
    {
      "cell_type": "markdown",
      "metadata": {
        "id": "usy6McPQLCI5"
      },
      "source": [
        "###### *COVID-19 Radiography Database*  \n",
        "M.E.H. Chowdhury, T. Rahman, A. Khandakar, R. Mazhar, M.A. Kadir, Z.B. Mahbub, K.R. Islam, M.S. Khan, A. Iqbal, N. Al-Emadi, M.B.I. Reaz, M. T. Islam,\n",
        "“Can AI help in screening Viral and COVID-19 pneumonia?”\n",
        "(2020)\n",
        "[Kaggle](https://www.kaggle.com/tawsifurrahman/covid19-radiography-database)\n",
        "\n",
        "**Important:** Before running the cell below follow [this](https://stackoverflow.com/questions/49310470/using-kaggle-datasets-in-google-colab) stackoverflow questions accepted answer to get the kaggle.json file. Once you have the json file on your local machine,run the code below and upload the json file there. ([credit](https://github.com/mobassir94/Practicing-Tensorflow/blob/master/kaggle_Pneumonia_Detection.ipynb))"
      ]
    },
    {
      "cell_type": "code",
      "metadata": {
        "id": "Rg1AzTw0BHBo",
        "colab": {
          "base_uri": "https://localhost:8080/"
        },
        "outputId": "63de772c-f7f5-41ed-c641-5085c7e6fff9"
      },
      "source": [
        "!kaggle datasets download -d tawsifurrahman/covid19-radiography-database\n",
        "!unzip -q covid19-radiography-database.zip\n",
        "!rm covid19-radiography-database.zip"
      ],
      "execution_count": null,
      "outputs": [
        {
          "output_type": "stream",
          "text": [
            "Downloading covid19-radiography-database.zip to /content\n",
            "100% 1.15G/1.15G [00:28<00:00, 18.5MB/s]\n",
            "100% 1.15G/1.15G [00:28<00:00, 42.8MB/s]\n"
          ],
          "name": "stdout"
        }
      ]
    },
    {
      "cell_type": "markdown",
      "metadata": {
        "id": "hEGlFBzhLTEL"
      },
      "source": [
        "###### *RSNA Pneumonia Detection Challenge*\n",
        "Radiological Society of North America\n",
        "(2018)\n",
        "[Kaggle](https://www.kaggle.com/c/rsna-pneumonia-detection-challenge)\n",
        "\n",
        "Based on: Wang X, Peng Y, Lu L, Lu Z, Bagheri M, Summers RM. ChestX-ray8: Hospital-scale Chest X-ray Database and Benchmarks on Weakly-Supervised Classification and Localization of Common Thorax Diseases. IEEE CVPR 2017, http://openaccess.thecvf.com/content_cvpr_2017/papers/Wang_ChestX-ray8_Hospital-Scale_Chest_CVPR_2017_paper.pdf\n",
        "\n",
        "**Important:** Before running the cell below follow [this link](https://www.kaggle.com/c/rsna-pneumonia-detection-challenge) click on 'Late Submission' and when prompted accept the competition rules."
      ]
    },
    {
      "cell_type": "code",
      "metadata": {
        "id": "m8LxpdJeLqV2",
        "colab": {
          "base_uri": "https://localhost:8080/"
        },
        "outputId": "9c75ee9c-fe28-4556-9178-2abfb5af7bbd"
      },
      "source": [
        "!kaggle competitions download -c rsna-pneumonia-detection-challenge -p 'rsna-pneumonia-detection-challenge'\n",
        "!unzip -q rsna-pneumonia-detection-challenge/rsna-pneumonia-detection-challenge.zip -d rsna-pneumonia-detection-challenge\n",
        "!rm rsna-pneumonia-detection-challenge/rsna-pneumonia-detection-challenge.zip"
      ],
      "execution_count": null,
      "outputs": [
        {
          "output_type": "stream",
          "text": [
            "Downloading rsna-pneumonia-detection-challenge.zip to rsna-pneumonia-detection-challenge\n",
            "100% 3.66G/3.66G [01:34<00:00, 21.2MB/s]\n",
            "100% 3.66G/3.66G [01:34<00:00, 41.5MB/s]\n"
          ],
          "name": "stdout"
        }
      ]
    },
    {
      "cell_type": "markdown",
      "metadata": {
        "id": "7YVl3JdtTnc3"
      },
      "source": [
        "###### Install packages"
      ]
    },
    {
      "cell_type": "code",
      "metadata": {
        "id": "VRbVPW5UTqwj"
      },
      "source": [
        "!pip install -q pydicom"
      ],
      "execution_count": null,
      "outputs": []
    },
    {
      "cell_type": "markdown",
      "metadata": {
        "id": "ZLiwnMq8Kuhf"
      },
      "source": [
        "##### Import libraries"
      ]
    },
    {
      "cell_type": "code",
      "metadata": {
        "id": "4geb06ZXk9sr"
      },
      "source": [
        "import numpy as np\n",
        "import pandas as pd\n",
        "import matplotlib.pyplot as plt\n",
        "import tensorflow as tf\n",
        "import pydicom as dicom\n",
        "import seaborn as sns\n",
        "\n",
        "from sklearn.preprocessing import OneHotEncoder\n",
        "from sklearn.model_selection import train_test_split\n",
        "from sklearn.utils import shuffle, class_weight\n",
        "\n",
        "import keras\n",
        "from keras.layers import Input, Conv2D, Activation, BatchNormalization, MaxPool2D, GlobalAveragePooling2D, Dense, Dropout, LeakyReLU, Flatten, ZeroPadding2D\n",
        "from keras import layers\n",
        "from keras.applications import ResNet50V2\n",
        "from keras.callbacks import ReduceLROnPlateau\n",
        "from keras.layers.merge import add\n",
        "from keras.activations import relu, softmax\n",
        "from keras.models import Sequential\n",
        "from keras import regularizers\n",
        "from keras.preprocessing.image import ImageDataGenerator\n",
        "from keras.utils import to_categorical\n",
        "from keras.optimizers import Adam\n",
        "\n",
        "import os, shutil, random, cv2\n",
        "from shutil import copyfile\n",
        "from distutils.dir_util import copy_tree\n",
        "from tqdm import tqdm"
      ],
      "execution_count": null,
      "outputs": []
    },
    {
      "cell_type": "markdown",
      "metadata": {
        "id": "rguGows5cq65"
      },
      "source": [
        "##### Define constants"
      ]
    },
    {
      "cell_type": "code",
      "metadata": {
        "id": "i3YYpkxoc0t0"
      },
      "source": [
        "AUTOTUNE = tf.data.experimental.AUTOTUNE\n",
        "# GCS_PATH = KaggleDatasets().get_gcs_path()\n",
        "BATCH_SIZE = 8\n",
        "IMG_SIZE = [224, 224]\n",
        "EPOCHS = 10\n",
        "# train/test split\n",
        "SPLIT = 0.1\n",
        "# Reset the seed so all runs are the same.\n",
        "seed = 42\n",
        "np.random.seed(seed)\n",
        "random.seed(seed)\n",
        "random_state = 42"
      ],
      "execution_count": null,
      "outputs": []
    },
    {
      "cell_type": "markdown",
      "metadata": {
        "id": "_yW-sKkgixOX"
      },
      "source": [
        "## Data\n",
        "**COVIDx dataset:** [Github](https://github.com/lindawangg/COVID-Net/blob/master/docs/COVIDx.md)  \n",
        "L. Wang, Z. Q. Lin, & A. Wong.\n",
        "Covid-net: A tailored deep convolutional neural network design for detection of covid-19 cases from chest x-ray images.\n",
        "(2020)\n",
        "[Github](https://github.com/lindawangg/COVID-Net)\n",
        "[Google Scholar](https://scholar.google.com/scholar?cluster=12232147793008983229&hl=en&as_sdt=0,5)\n",
        "\n"
      ]
    },
    {
      "cell_type": "markdown",
      "metadata": {
        "id": "Ttpkn1UTFZO7"
      },
      "source": [
        "### Create dataset"
      ]
    },
    {
      "cell_type": "markdown",
      "metadata": {
        "id": "Y6mo-lBqHkny"
      },
      "source": [
        "From [Covidx creation on Github](https://github.com/lindawangg/COVID-Net/blob/master/create_COVIDx.ipynb)"
      ]
    },
    {
      "cell_type": "code",
      "metadata": {
        "id": "2zipjofuTQux"
      },
      "source": [
        "!mkdir data && mkdir data/train && mkdir data/test"
      ],
      "execution_count": null,
      "outputs": []
    },
    {
      "cell_type": "code",
      "metadata": {
        "id": "GNlZVfHBIuWf"
      },
      "source": [
        "savepath = 'data'\n",
        "\n",
        "# path to covid-19 dataset from https://github.com/ieee8023/covid-chestxray-dataset\n",
        "cohen_imgpath = 'covid-chestxray-dataset/images' \n",
        "cohen_csvpath = 'covid-chestxray-dataset/metadata.csv'\n",
        "\n",
        "# path to covid-19 dataset from https://github.com/agchung/Figure1-COVID-chestxray-dataset\n",
        "fig1_imgpath = 'Figure1-COVID-chestxray-dataset/images'\n",
        "fig1_csvpath = 'Figure1-COVID-chestxray-dataset/metadata.csv'\n",
        "\n",
        "# path to covid-19 dataset from https://github.com/agchung/Actualmed-COVID-chestxray-dataset\n",
        "actmed_imgpath = 'Actualmed-COVID-chestxray-dataset/images'\n",
        "actmed_csvpath = 'Actualmed-COVID-chestxray-dataset/metadata.csv'\n",
        "\n",
        "# path to covid-19 dataset from https://www.kaggle.com/tawsifurrahman/covid19-radiography-database\n",
        "sirm_imgpath = 'COVID-19 Radiography Database/COVID-19'\n",
        "sirm_csvpath = 'COVID-19 Radiography Database/COVID-19.metadata.xlsx'\n",
        "\n",
        "# path to https://www.kaggle.com/c/rsna-pneumonia-detection-challenge\n",
        "rsna_datapath = 'rsna-pneumonia-detection-challenge'\n",
        "# get all the normal from here\n",
        "rsna_csvname = 'stage_2_detailed_class_info.csv' \n",
        "# get all the 1s from here since 1 indicate pneumonia\n",
        "# found that images that aren't pneunmonia and also not normal are classified as 0s\n",
        "rsna_csvname2 = 'stage_2_train_labels.csv' \n",
        "rsna_imgpath = 'stage_2_train_images'\n",
        "\n",
        "# parameters for COVIDx dataset\n",
        "train = []\n",
        "test = []\n",
        "test_count = {'normal': 0, 'pneumonia': 0, 'COVID-19': 0}\n",
        "train_count = {'normal': 0, 'pneumonia': 0, 'COVID-19': 0}\n",
        "\n",
        "mapping = dict()\n",
        "mapping['COVID-19'] = 'COVID-19'\n",
        "mapping['SARS'] = 'pneumonia'\n",
        "mapping['MERS'] = 'pneumonia'\n",
        "mapping['Streptococcus'] = 'pneumonia'\n",
        "mapping['Klebsiella'] = 'pneumonia'\n",
        "mapping['Chlamydophila'] = 'pneumonia'\n",
        "mapping['Legionella'] = 'pneumonia'\n",
        "mapping['E.Coli'] = 'pneumonia'\n",
        "mapping['Normal'] = 'normal'\n",
        "mapping['Lung Opacity'] = 'pneumonia'\n",
        "mapping['1'] = 'pneumonia'\n",
        "\n",
        "# to avoid duplicates\n",
        "patient_imgpath = {}"
      ],
      "execution_count": null,
      "outputs": []
    },
    {
      "cell_type": "code",
      "metadata": {
        "id": "4788IdJZT2oR"
      },
      "source": [
        "# adapted from https://github.com/mlmed/torchxrayvision/blob/master/torchxrayvision/datasets.py#L814\n",
        "cohen_csv = pd.read_csv(cohen_csvpath, nrows=None)\n",
        "#idx_pa = csv[\"view\"] == \"PA\"  # Keep only the PA view\n",
        "views = [\"PA\", \"AP\", \"AP Supine\", \"AP semi erect\", \"AP erect\"]\n",
        "cohen_idx_keep = cohen_csv.view.isin(views)\n",
        "cohen_csv = cohen_csv[cohen_idx_keep]\n",
        "\n",
        "fig1_csv = pd.read_csv(fig1_csvpath, encoding='ISO-8859-1', nrows=None)\n",
        "actmed_csv = pd.read_csv(actmed_csvpath, nrows=None)\n",
        "\n",
        "sirm_csv = pd.read_excel(sirm_csvpath)"
      ],
      "execution_count": null,
      "outputs": []
    },
    {
      "cell_type": "code",
      "metadata": {
        "id": "FtlJldZ5UBUA",
        "colab": {
          "base_uri": "https://localhost:8080/"
        },
        "outputId": "85e54ff2-f685-427b-d480-45f74b140443"
      },
      "source": [
        "# get non-COVID19 viral, bacteria, and COVID-19 infections from covid-chestxray-dataset, figure1 and actualmed\n",
        "# stored as patient id, image filename and label\n",
        "filename_label = {'normal': [], 'pneumonia': [], 'COVID-19': []}\n",
        "count = {'normal': 0, 'pneumonia': 0, 'COVID-19': 0}\n",
        "covid_ds = {'cohen': [], 'fig1': [], 'actmed': [], 'sirm': []}\n",
        "\n",
        "for index, row in cohen_csv.iterrows():\n",
        "    f = row['finding'].split('/')[-1] # take final finding in hierarchy, for the case of COVID-19, ARDS\n",
        "    if f in mapping: # \n",
        "        count[mapping[f]] += 1\n",
        "        entry = [str(row['patientid']), row['filename'], mapping[f], 'cohen']\n",
        "        filename_label[mapping[f]].append(entry)\n",
        "        if mapping[f] == 'COVID-19':\n",
        "            covid_ds['cohen'].append(str(row['patientid']))\n",
        "        \n",
        "for index, row in fig1_csv.iterrows():\n",
        "    if not str(row['finding']) == 'nan':\n",
        "        f = row['finding'].split(',')[0] # take the first finding\n",
        "        if f in mapping: # \n",
        "            count[mapping[f]] += 1\n",
        "            if os.path.exists(os.path.join(fig1_imgpath, row['patientid'] + '.jpg')):\n",
        "                entry = [row['patientid'], row['patientid'] + '.jpg', mapping[f], 'fig1']\n",
        "            elif os.path.exists(os.path.join(fig1_imgpath, row['patientid'] + '.png')):\n",
        "                entry = [row['patientid'], row['patientid'] + '.png', mapping[f], 'fig1']\n",
        "            filename_label[mapping[f]].append(entry)\n",
        "            if mapping[f] == 'COVID-19':\n",
        "                covid_ds['fig1'].append(row['patientid'])\n",
        "\n",
        "for index, row in actmed_csv.iterrows():\n",
        "    if not str(row['finding']) == 'nan':\n",
        "        f = row['finding'].split(',')[0]\n",
        "        if f in mapping:\n",
        "            count[mapping[f]] += 1\n",
        "            entry = [row['patientid'], row['imagename'], mapping[f], 'actmed']\n",
        "            filename_label[mapping[f]].append(entry)\n",
        "            if mapping[f] == 'COVID-19':\n",
        "                covid_ds['actmed'].append(row['patientid'])\n",
        "    \n",
        "sirm = set(sirm_csv['URL'])\n",
        "cohen = set(cohen_csv['url'])\n",
        "discard = ['100', '101', '102', '103', '104', '105', \n",
        "           '110', '111', '112', '113', '122', '123', \n",
        "           '124', '125', '126', '217']\n",
        "\n",
        "for idx, row in sirm_csv.iterrows():\n",
        "    patientid = row['FILE NAME']\n",
        "    if row['URL'] not in cohen and patientid[patientid.find('(')+1:patientid.find(')')] not in discard:\n",
        "        count[mapping['COVID-19']] += 1\n",
        "        imagename = patientid + '.' + row['FORMAT'].lower()\n",
        "        if not os.path.exists(os.path.join(sirm_imgpath, imagename)):\n",
        "            imagename = patientid.split('(')[0] + ' ('+ patientid.split('(')[1] + '.' + row['FORMAT'].lower()\n",
        "        entry = [patientid, imagename, mapping['COVID-19'], 'sirm']\n",
        "        filename_label[mapping['COVID-19']].append(entry)\n",
        "        covid_ds['sirm'].append(patientid)\n",
        "    \n",
        "print('Data distribution from covid datasets:')\n",
        "print(count)"
      ],
      "execution_count": null,
      "outputs": [
        {
          "output_type": "stream",
          "text": [
            "Data distribution from covid datasets:\n",
            "{'normal': 0, 'pneumonia': 57, 'COVID-19': 617}\n"
          ],
          "name": "stdout"
        }
      ]
    },
    {
      "cell_type": "code",
      "metadata": {
        "id": "ILxNab92UCC8",
        "colab": {
          "base_uri": "https://localhost:8080/"
        },
        "outputId": "a7f097bb-f1c2-4531-85ae-bc401d59d055"
      },
      "source": [
        "# add covid-chestxray-dataset, figure1 and actualmed into COVIDx dataset\n",
        "# since these datasets don't have test dataset, split into train/test by patientid\n",
        "# for covid-chestxray-dataset:\n",
        "# patient 8 is used as non-COVID19 viral test\n",
        "# patient 31 is used as bacterial test\n",
        "# patients 19, 20, 36, 42, 86 are used as COVID-19 viral test\n",
        "# for figure 1:\n",
        "# patients 24, 25, 27, 29, 30, 32, 33, 36, 37, 38\n",
        "\n",
        "ds_imgpath = {'cohen': cohen_imgpath, 'fig1': fig1_imgpath, 'actmed': actmed_imgpath, 'sirm': sirm_imgpath}\n",
        "\n",
        "for key in filename_label.keys():\n",
        "    arr = np.array(filename_label[key])\n",
        "    if arr.size == 0:\n",
        "        continue\n",
        "    # split by patients\n",
        "    # num_diff_patients = len(np.unique(arr[:,0]))\n",
        "    # num_test = max(1, round(SPLIT*num_diff_patients))\n",
        "    # select num_test number of random patients\n",
        "    # random.sample(list(arr[:,0]), num_test)\n",
        "    if key == 'pneumonia':\n",
        "        test_patients = ['8', '31']\n",
        "    elif key == 'COVID-19':\n",
        "        test_patients = ['19', '20', '36', '42', '86', \n",
        "                         '94', '97', '117', '132', \n",
        "                         '138', '144', '150', '163', '169', '174', '175', '179', '190', '191'\n",
        "                         'COVID-00024', 'COVID-00025', 'COVID-00026', 'COVID-00027', 'COVID-00029',\n",
        "                         'COVID-00030', 'COVID-00032', 'COVID-00033', 'COVID-00035', 'COVID-00036',\n",
        "                         'COVID-00037', 'COVID-00038',\n",
        "                         'ANON24', 'ANON45', 'ANON126', 'ANON106', 'ANON67',\n",
        "                         'ANON153', 'ANON135', 'ANON44', 'ANON29', 'ANON201', \n",
        "                         'ANON191', 'ANON234', 'ANON110', 'ANON112', 'ANON73', \n",
        "                         'ANON220', 'ANON189', 'ANON30', 'ANON53', 'ANON46',\n",
        "                         'ANON218', 'ANON240', 'ANON100', 'ANON237', 'ANON158',\n",
        "                         'ANON174', 'ANON19', 'ANON195',\n",
        "                         'COVID-19(119)', 'COVID-19(87)', 'COVID-19(70)', 'COVID-19(94)', \n",
        "                         'COVID-19(215)', 'COVID-19(77)', 'COVID-19(213)', 'COVID-19(81)', \n",
        "                         'COVID-19(216)', 'COVID-19(72)', 'COVID-19(106)', 'COVID-19(131)', \n",
        "                         'COVID-19(107)', 'COVID-19(116)', 'COVID-19(95)', 'COVID-19(214)', \n",
        "                         'COVID-19(129)']\n",
        "    else: \n",
        "        test_patients = []\n",
        "    print('Key: ', key)\n",
        "    print('Test patients: ', test_patients)\n",
        "    # go through all the patients\n",
        "    for patient in arr:\n",
        "        if patient[0] not in patient_imgpath:\n",
        "            patient_imgpath[patient[0]] = [patient[1]]\n",
        "        else:\n",
        "            if patient[1] not in patient_imgpath[patient[0]]:\n",
        "                patient_imgpath[patient[0]].append(patient[1])\n",
        "            else:\n",
        "                continue  # skip since image has already been written\n",
        "        if patient[0] in test_patients:\n",
        "            if patient[3] == 'sirm':\n",
        "                image = cv2.imread(os.path.join(ds_imgpath[patient[3]], patient[1]))\n",
        "                gray = cv2.cvtColor(image, cv2.COLOR_BGR2GRAY)\n",
        "                patient[1] = patient[1].replace(' ', '')\n",
        "                cv2.imwrite(os.path.join(savepath, 'test', patient[1]), gray)\n",
        "            else:\n",
        "                copyfile(os.path.join(ds_imgpath[patient[3]], patient[1]), os.path.join(savepath, 'test', patient[1]))\n",
        "            test.append(patient)\n",
        "            test_count[patient[2]] += 1\n",
        "        else:\n",
        "            if patient[3] == 'sirm':\n",
        "                image = cv2.imread(os.path.join(ds_imgpath[patient[3]], patient[1]))\n",
        "                gray = cv2.cvtColor(image, cv2.COLOR_BGR2GRAY)\n",
        "                patient[1] = patient[1].replace(' ', '')\n",
        "                cv2.imwrite(os.path.join(savepath, 'train', patient[1]), gray)\n",
        "            else:\n",
        "                copyfile(os.path.join(ds_imgpath[patient[3]], patient[1]), os.path.join(savepath, 'train', patient[1]))\n",
        "            train.append(patient)\n",
        "            train_count[patient[2]] += 1\n",
        "\n",
        "print('test count: ', test_count)\n",
        "print('train count: ', train_count)"
      ],
      "execution_count": null,
      "outputs": [
        {
          "output_type": "stream",
          "text": [
            "Key:  pneumonia\n",
            "Test patients:  ['8', '31']\n",
            "Key:  COVID-19\n",
            "Test patients:  ['19', '20', '36', '42', '86', '94', '97', '117', '132', '138', '144', '150', '163', '169', '174', '175', '179', '190', '191COVID-00024', 'COVID-00025', 'COVID-00026', 'COVID-00027', 'COVID-00029', 'COVID-00030', 'COVID-00032', 'COVID-00033', 'COVID-00035', 'COVID-00036', 'COVID-00037', 'COVID-00038', 'ANON24', 'ANON45', 'ANON126', 'ANON106', 'ANON67', 'ANON153', 'ANON135', 'ANON44', 'ANON29', 'ANON201', 'ANON191', 'ANON234', 'ANON110', 'ANON112', 'ANON73', 'ANON220', 'ANON189', 'ANON30', 'ANON53', 'ANON46', 'ANON218', 'ANON240', 'ANON100', 'ANON237', 'ANON158', 'ANON174', 'ANON19', 'ANON195', 'COVID-19(119)', 'COVID-19(87)', 'COVID-19(70)', 'COVID-19(94)', 'COVID-19(215)', 'COVID-19(77)', 'COVID-19(213)', 'COVID-19(81)', 'COVID-19(216)', 'COVID-19(72)', 'COVID-19(106)', 'COVID-19(131)', 'COVID-19(107)', 'COVID-19(116)', 'COVID-19(95)', 'COVID-19(214)', 'COVID-19(129)']\n",
            "test count:  {'normal': 0, 'pneumonia': 5, 'COVID-19': 100}\n",
            "train count:  {'normal': 0, 'pneumonia': 52, 'COVID-19': 517}\n"
          ],
          "name": "stdout"
        }
      ]
    },
    {
      "cell_type": "code",
      "metadata": {
        "id": "aI29zFfUUD60",
        "colab": {
          "base_uri": "https://localhost:8080/"
        },
        "outputId": "dffabf6f-ed9c-41e9-e8ee-66f79a088fdd"
      },
      "source": [
        "# add normal and rest of pneumonia cases from https://www.kaggle.com/c/rsna-pneumonia-detection-challenge\n",
        "csv_normal = pd.read_csv(os.path.join(rsna_datapath, rsna_csvname), nrows=None)\n",
        "csv_pneu = pd.read_csv(os.path.join(rsna_datapath, rsna_csvname2), nrows=None)\n",
        "patients = {'normal': [], 'pneumonia': []}\n",
        "\n",
        "for index, row in csv_normal.iterrows():\n",
        "    if row['class'] == 'Normal':\n",
        "        patients['normal'].append(row['patientId'])\n",
        "\n",
        "for index, row in csv_pneu.iterrows():\n",
        "    if int(row['Target']) == 1:\n",
        "        patients['pneumonia'].append(row['patientId'])\n",
        "\n",
        "for key in patients.keys():\n",
        "    arr = np.array(patients[key])\n",
        "    if arr.size == 0:\n",
        "        continue\n",
        "    # split by patients \n",
        "    # num_diff_patients = len(np.unique(arr))\n",
        "    # num_test = max(1, round(split*num_diff_patients))\n",
        "    test_patients = np.load('COVID-Net/rsna_test_patients_{}.npy'.format(key)) # random.sample(list(arr), num_test), download the .npy files from the repo.\n",
        "    # np.save('rsna_test_patients_{}.npy'.format(key), np.array(test_patients))\n",
        "    for patient in arr:\n",
        "        if patient not in patient_imgpath:\n",
        "            patient_imgpath[patient] = [patient]\n",
        "        else:\n",
        "            continue  # skip since image has already been written\n",
        "                \n",
        "        ds = dicom.dcmread(os.path.join(rsna_datapath, rsna_imgpath, patient + '.dcm'))\n",
        "        pixel_array_numpy = ds.pixel_array\n",
        "        imgname = patient + '.png'\n",
        "        if patient in test_patients:\n",
        "            cv2.imwrite(os.path.join(savepath, 'test', imgname), pixel_array_numpy)\n",
        "            test.append([patient, imgname, key, 'rsna'])\n",
        "            test_count[key] += 1\n",
        "        else:\n",
        "            cv2.imwrite(os.path.join(savepath, 'train', imgname), pixel_array_numpy)\n",
        "            train.append([patient, imgname, key, 'rsna'])\n",
        "            train_count[key] += 1\n",
        "\n",
        "print('test count: ', test_count)\n",
        "print('train count: ', train_count)"
      ],
      "execution_count": null,
      "outputs": [
        {
          "output_type": "stream",
          "text": [
            "test count:  {'normal': 885, 'pneumonia': 594, 'COVID-19': 100}\n",
            "train count:  {'normal': 7966, 'pneumonia': 5475, 'COVID-19': 517}\n"
          ],
          "name": "stdout"
        }
      ]
    },
    {
      "cell_type": "code",
      "metadata": {
        "id": "haPEqFP6UGK7",
        "colab": {
          "base_uri": "https://localhost:8080/"
        },
        "outputId": "a9a4d629-6c0a-41d9-ec6b-1d3e241d775b"
      },
      "source": [
        "# final stats\n",
        "print('Final stats')\n",
        "print('Train count: ', train_count)\n",
        "print('Test count: ', test_count)\n",
        "print('Total length of train: ', len(train))\n",
        "print('Total length of test: ', len(test))"
      ],
      "execution_count": null,
      "outputs": [
        {
          "output_type": "stream",
          "text": [
            "Final stats\n",
            "Train count:  {'normal': 7966, 'pneumonia': 5475, 'COVID-19': 517}\n",
            "Test count:  {'normal': 885, 'pneumonia': 594, 'COVID-19': 100}\n",
            "Total length of train:  13958\n",
            "Total length of test:  1579\n"
          ],
          "name": "stdout"
        }
      ]
    },
    {
      "cell_type": "code",
      "metadata": {
        "id": "4hnCsh08UHk-"
      },
      "source": [
        "# export to train and test csv\n",
        "# format as patientid, filename, label, separated by a space\n",
        "train_file = open(\"data/train_split.txt\",'w') \n",
        "train_file.write('patientid filename label source\\n')\n",
        "for sample in train:\n",
        "    if len(sample) == 4:\n",
        "        info = str(sample[0]) + ' ' + sample[1] + ' ' + sample[2] + ' ' + sample[3] + '\\n'\n",
        "    else:\n",
        "        info = str(sample[0]) + ' ' + sample[1] + ' ' + sample[2] + '\\n'\n",
        "    train_file.write(info)\n",
        "\n",
        "train_file.close()\n",
        "\n",
        "test_file = open(\"data/test_split.txt\", 'w')\n",
        "test_file.write('patientid filename label source\\n')\n",
        "for sample in test:\n",
        "    if len(sample) == 4:\n",
        "        info = str(sample[0]) + ' ' + sample[1] + ' ' + sample[2] + ' ' + sample[3] + '\\n'\n",
        "    else:\n",
        "        info = str(sample[0]) + ' ' + sample[1] + ' ' + sample[2] + '\\n'\n",
        "    test_file.write(info)\n",
        "\n",
        "test_file.close()"
      ],
      "execution_count": null,
      "outputs": []
    },
    {
      "cell_type": "markdown",
      "metadata": {
        "id": "8swfhX4IFFyr"
      },
      "source": [
        "Delete obsolete files"
      ]
    },
    {
      "cell_type": "code",
      "metadata": {
        "id": "HP4V9gtXFE-d",
        "colab": {
          "base_uri": "https://localhost:8080/"
        },
        "outputId": "0f036534-e9a9-4b76-e1c9-2c8211124760"
      },
      "source": [
        "!find . -maxdepth 1 ! -name \"data\" !  -exec rm -r {} \\;"
      ],
      "execution_count": null,
      "outputs": [
        {
          "output_type": "stream",
          "text": [
            "rm: refusing to remove '.' or '..' directory: skipping '.'\n"
          ],
          "name": "stdout"
        }
      ]
    },
    {
      "cell_type": "markdown",
      "metadata": {
        "id": "W4-BvfKk31nU"
      },
      "source": [
        "### Load dataset"
      ]
    },
    {
      "cell_type": "markdown",
      "metadata": {
        "id": "hCWbkRddR5BX"
      },
      "source": [
        "###### Retrieve filenames (paths) and labels"
      ]
    },
    {
      "cell_type": "code",
      "metadata": {
        "id": "iTBlEfCz6tu-"
      },
      "source": [
        "datapath = 'data'\n",
        "# normal = 0, pneumonia = 1, COVID-19 = 2\n",
        "label_encoding = ['normal', 'pneumonia', 'COVID-19']\n",
        "\n",
        "def get_data(part):\n",
        "    if part == 'train':\n",
        "        head = 2000\n",
        "    else:\n",
        "        head = 200\n",
        "    path = datapath + '/'+ part\n",
        "    csv = pd.read_csv(path + '_split.txt', sep=' ')\n",
        "    filenames = [path + '/' + s for s in list(csv['filename'].head(head))] # TODO remove head\n",
        "    y_labels = [label_encoding.index(label) for label in list(csv['label'].head(head))] # TODO remove head\n",
        "    # shuffle data\n",
        "    filenames_shuffled, y_labels_shuffled = shuffle(filenames, y_labels)\n",
        "    filenames_shuffled_numpy = np.array(filenames_shuffled)\n",
        "    y_labels_shuffled = np.array(y_labels_shuffled)\n",
        "    if part == 'train':\n",
        "        # returns: X_train_filenames, X_val_filenames, y_train, y_val\n",
        "        return train_test_split(filenames_shuffled_numpy, y_labels_shuffled, test_size=SPLIT, random_state=random_state)\n",
        "    # retuns: X_test_filenames, y_test, _, _\n",
        "    return filenames_shuffled_numpy, y_labels_shuffled, None, None"
      ],
      "execution_count": null,
      "outputs": []
    },
    {
      "cell_type": "code",
      "metadata": {
        "id": "lZnnoc95cn42"
      },
      "source": [
        "x_train, x_val, y_train, y_val = get_data('train')\n",
        "x_test, y_test, _, _ = get_data('test')"
      ],
      "execution_count": null,
      "outputs": []
    },
    {
      "cell_type": "code",
      "metadata": {
        "id": "iRMv7jfE5Dkp"
      },
      "source": [
        "def get_distribution(y):\n",
        "    return {'normal': np.count_nonzero(y == 0),\n",
        "            'pneumonia': np.count_nonzero(y == 1),\n",
        "            'COVID-19': np.count_nonzero(y == 2)}"
      ],
      "execution_count": null,
      "outputs": []
    },
    {
      "cell_type": "code",
      "metadata": {
        "colab": {
          "base_uri": "https://localhost:8080/"
        },
        "id": "490LlNj21ZYe",
        "outputId": "3bf2efae-9ec3-4cb3-bb5c-a16ea1dfd6bf"
      },
      "source": [
        "TRAIN_DISTRIBUTION = get_distribution(y_train)\n",
        "VAL_DISTRIBUTION = get_distribution(y_val)\n",
        "TEST_DISTRIBUTION = get_distribution(y_test)\n",
        "print('train set: ', TRAIN_DISTRIBUTION)\n",
        "print('val set:   ', VAL_DISTRIBUTION)\n",
        "print('test set:  ', TEST_DISTRIBUTION)"
      ],
      "execution_count": null,
      "outputs": [
        {
          "output_type": "stream",
          "text": [
            "train set:  {'normal': 1294, 'pneumonia': 46, 'COVID-19': 460}\n",
            "val set:    {'normal': 137, 'pneumonia': 6, 'COVID-19': 57}\n",
            "test set:   {'normal': 95, 'pneumonia': 5, 'COVID-19': 100}\n"
          ],
          "name": "stdout"
        }
      ]
    },
    {
      "cell_type": "markdown",
      "metadata": {
        "id": "XENF-wNVudB3"
      },
      "source": [
        "Very imbalanced!"
      ]
    },
    {
      "cell_type": "markdown",
      "metadata": {
        "id": "yKLzGVJr1KYt"
      },
      "source": [
        "###### Create tensors from the data"
      ]
    },
    {
      "cell_type": "code",
      "metadata": {
        "id": "v2ACeBXm0jDe"
      },
      "source": [
        "# one hot encoding for multi class classification\n",
        "y_train_one_hot = to_categorical(y_train, 3)\n",
        "y_val_one_hot = to_categorical(y_val, 3)\n",
        "y_test_one_hot = to_categorical(y_test, 3)\n",
        "# build tensorflow dataset\n",
        "train_files = tf.data.Dataset.from_tensor_slices((x_train, y_train_one_hot))\n",
        "val_files = tf.data.Dataset.from_tensor_slices((x_val, y_val_one_hot))\n",
        "test_files = tf.data.Dataset.from_tensor_slices((x_test, y_test_one_hot))"
      ],
      "execution_count": null,
      "outputs": []
    },
    {
      "cell_type": "markdown",
      "metadata": {
        "id": "5uY3XUMZndVW"
      },
      "source": [
        "###### Image retrieval"
      ]
    },
    {
      "cell_type": "code",
      "metadata": {
        "id": "9WOaiSgpNoHl"
      },
      "source": [
        "def get_img(x, y):\n",
        "    file_path = x\n",
        "    label = y\n",
        "    # load the raw data from the file as a string\n",
        "    img = tf.io.read_file(file_path)\n",
        "    # convert the compressed string to a 3D uint8 tensor\n",
        "    img = tf.image.decode_image(img, channels=3, expand_animations = False)\n",
        "    # make sure img has desired number of channels\n",
        "    # rgb = 3, grayscale = 1\n",
        "    img = tf.cond(tf.shape(img)[2] == 1, lambda: tf.image.grayscale_to_rgb(img), lambda: img)\n",
        "    return img, label"
      ],
      "execution_count": null,
      "outputs": []
    },
    {
      "cell_type": "code",
      "metadata": {
        "id": "vm-IQcmFRkUH"
      },
      "source": [
        "train_ds = train_files.map(get_img, num_parallel_calls=AUTOTUNE)\n",
        "val_ds = val_files.map(get_img, num_parallel_calls=AUTOTUNE)\n",
        "test_ds = test_files.map(get_img, num_parallel_calls=AUTOTUNE)"
      ],
      "execution_count": null,
      "outputs": []
    },
    {
      "cell_type": "code",
      "metadata": {
        "id": "p5K556WbSL2q",
        "colab": {
          "base_uri": "https://localhost:8080/"
        },
        "outputId": "6a65e8d9-18f6-4b32-b6ad-e15fb3737845"
      },
      "source": [
        "TRAIN_IMG_COUNT = tf.data.experimental.cardinality(train_ds).numpy()\n",
        "VAL_IMG_COUNT = tf.data.experimental.cardinality(val_ds).numpy()\n",
        "TEST_IMG_COUNT = tf.data.experimental.cardinality(test_ds).numpy()\n",
        "print(\n",
        "    'Train: ' + str(TRAIN_IMG_COUNT) + ',',\n",
        "    'Val: ' + str(VAL_IMG_COUNT) + ',',\n",
        "    'Test: ' + str(TEST_IMG_COUNT),\n",
        ")"
      ],
      "execution_count": null,
      "outputs": [
        {
          "output_type": "stream",
          "text": [
            "Train: 1800, Val: 200, Test: 200\n"
          ],
          "name": "stdout"
        }
      ]
    },
    {
      "cell_type": "markdown",
      "metadata": {
        "id": "xjI5CdByomBh"
      },
      "source": [
        "Original counts  \n",
        "Train: 12562, Val: 1396, Test: 1579"
      ]
    },
    {
      "cell_type": "markdown",
      "metadata": {
        "id": "VXTNKqd1SWq1"
      },
      "source": [
        "### Prepare for training"
      ]
    },
    {
      "cell_type": "markdown",
      "metadata": {
        "id": "9maiOwIFusj3"
      },
      "source": [
        "###### Define preprocessing"
      ]
    },
    {
      "cell_type": "code",
      "metadata": {
        "id": "ThfMQttGuFNI"
      },
      "source": [
        "# ideas\n",
        "#   1. crop top, sometimes there is text in the top part of the image\n",
        "#   2. central crop, crop the central region of the image with an area\n",
        "#      containing 87.5% of the original image\n",
        "#   3. try grayscale\n",
        "resize_and_rescale = tf.keras.Sequential([\n",
        "  layers.experimental.preprocessing.Resizing(IMG_SIZE[0], IMG_SIZE[1]),\n",
        "  layers.experimental.preprocessing.Rescaling(1./255)\n",
        "])"
      ],
      "execution_count": null,
      "outputs": []
    },
    {
      "cell_type": "markdown",
      "metadata": {
        "id": "_ZRRHdCQuy0h"
      },
      "source": [
        "###### Define data augmentation"
      ]
    },
    {
      "cell_type": "code",
      "metadata": {
        "id": "feTT4lX7nOu1"
      },
      "source": [
        "# implemented as keras layers below but kept for quick overview\n",
        "datagen = ImageDataGenerator(\n",
        "        featurewise_center=False,  # set input mean to 0 over the dataset\n",
        "        samplewise_center=False,  # set each sample mean to 0\n",
        "        featurewise_std_normalization=False,  # divide inputs by std of the dataset\n",
        "        samplewise_std_normalization=False,  # divide each input by its std\n",
        "        zca_whitening=False,  # apply ZCA whitening\n",
        "        rotation_range=10,  # randomly rotate images in the range (degrees, 0 to 180)\n",
        "        zoom_range=(0.85, 1.15), # randomly zoom image \n",
        "        brightness_range=(0.9, 1.1), # randomly shift brightness\n",
        "        width_shift_range=0.1,  # randomly shift images horizontally (fraction of total width)\n",
        "        height_shift_range=0.1,  # randomly shift images vertically (fraction of total height)\n",
        "        horizontal_flip = True,  # randomly flip images\n",
        "        vertical_flip=False,    # randomly flip images\n",
        "        fill_mode='constant',   # constant filling of points outside boundaries of input\n",
        "        cval=0.,)   # fill with zeros, see fill_mode"
      ],
      "execution_count": null,
      "outputs": []
    },
    {
      "cell_type": "code",
      "metadata": {
        "id": "J9EcTaGf4Lfd"
      },
      "source": [
        "class RandomBrightness(layers.Layer):\n",
        "  def __init__(self, factor=0.1, **kwargs):\n",
        "    super().__init__(**kwargs)\n",
        "    self.factor = factor\n",
        "\n",
        "  def call(self, x):\n",
        "    return tf.image.random_brightness(x, max_delta=self.factor)"
      ],
      "execution_count": null,
      "outputs": []
    },
    {
      "cell_type": "code",
      "metadata": {
        "id": "xZ5a1ElPuo9C"
      },
      "source": [
        "data_augmentation = tf.keras.Sequential([\n",
        "  layers.experimental.preprocessing.RandomFlip(\"horizontal\"),\n",
        "  layers.experimental.preprocessing.RandomRotation(0.1, fill_mode='constant'),\n",
        "  layers.experimental.preprocessing.RandomTranslation(0.1, 0.1, fill_mode='constant'),\n",
        "  layers.experimental.preprocessing.RandomZoom(0.15, fill_mode='constant'),\n",
        "  RandomBrightness(0.1),\n",
        "])"
      ],
      "execution_count": null,
      "outputs": []
    },
    {
      "cell_type": "markdown",
      "metadata": {
        "id": "GsOnrZz2u-wY"
      },
      "source": [
        "###### Prepare batches"
      ]
    },
    {
      "cell_type": "code",
      "metadata": {
        "id": "g0sZZfKJSkaC"
      },
      "source": [
        "def prepare_training(ds, shuffle=False, repeat=False, augment=False, cache=True, shuffle_buffer_size=1000):\n",
        "    # Resize and rescale all datasets\n",
        "    ds = ds.map(lambda x, y: (resize_and_rescale(x), y),\n",
        "                num_parallel_calls=AUTOTUNE)\n",
        "\n",
        "    # use `.cache(filename)` to cache preprocessing work for datasets that don't\n",
        "    # fit in memory.\n",
        "    if cache:\n",
        "        if isinstance(cache, str):\n",
        "            ds = ds.cache(cache)\n",
        "        else:\n",
        "            ds = ds.cache()\n",
        "\n",
        "    if shuffle:\n",
        "        ds = ds.shuffle(buffer_size=shuffle_buffer_size)\n",
        "\n",
        "    # repeat training set forever\n",
        "    if repeat:\n",
        "        ds = ds.repeat()\n",
        "    else:\n",
        "        ds = ds.repeat(1)\n",
        "\n",
        "    # batch all datasets\n",
        "    ds = ds.batch(BATCH_SIZE)\n",
        "\n",
        "    # use data augmentation only on the training set\n",
        "    if augment:\n",
        "        ds = ds.map(lambda x, y: (data_augmentation(x, training=True), y), \n",
        "                    num_parallel_calls=AUTOTUNE)\n",
        "\n",
        "    # fetches batches in the background while training the model\n",
        "    ds = ds.prefetch(buffer_size=AUTOTUNE)\n",
        "\n",
        "    return ds"
      ],
      "execution_count": null,
      "outputs": []
    },
    {
      "cell_type": "code",
      "metadata": {
        "id": "r8dlSaWrXL8k"
      },
      "source": [
        "train_batched = prepare_training(train_ds, shuffle=True, repeat=True, augment=True)\n",
        "val_batched = prepare_training(val_ds)\n",
        "test_batched = prepare_training(test_ds)"
      ],
      "execution_count": null,
      "outputs": []
    },
    {
      "cell_type": "markdown",
      "metadata": {
        "id": "mxytOEw8X0P1"
      },
      "source": [
        "### Visualization"
      ]
    },
    {
      "cell_type": "markdown",
      "metadata": {
        "id": "8mGcKX6k1PoZ"
      },
      "source": [
        "###### Distribution of labels in the sets"
      ]
    },
    {
      "cell_type": "code",
      "metadata": {
        "id": "DnNgrZP_7iwR"
      },
      "source": [
        "def plot_distributions(distributions):\n",
        "    sns.set_style('darkgrid')\n",
        "    n_plots = len(distributions)\n",
        "    fig, ax = plt.subplots(1,n_plots, figsize=(15,5))\n",
        "    plt.subplots_adjust(wspace=0.2, hspace=0.2)\n",
        "    for i, x in enumerate(distributions.items()):\n",
        "        name = x[0]\n",
        "        dis = x[1]\n",
        "        keys = list(dis.keys())\n",
        "        values = list(dis.values())\n",
        "        sns.barplot(x=keys, y=values, ax=ax[i]).set_title(name)\n",
        "    fig.show()"
      ],
      "execution_count": null,
      "outputs": []
    },
    {
      "cell_type": "code",
      "metadata": {
        "colab": {
          "base_uri": "https://localhost:8080/",
          "height": 336
        },
        "id": "6scnVGRvKSgI",
        "outputId": "65e76445-c4fe-4b31-ef8b-890b65095577"
      },
      "source": [
        "plot_distributions({'train': TRAIN_DISTRIBUTION, 'val': VAL_DISTRIBUTION, 'test': TEST_DISTRIBUTION})"
      ],
      "execution_count": null,
      "outputs": [
        {
          "output_type": "display_data",
          "data": {
            "image/png": "[encoded data removed]",
            "text/plain": [
              "<Figure size 1080x360 with 3 Axes>"
            ]
          },
          "metadata": {
            "tags": []
          }
        }
      ]
    },
    {
      "cell_type": "markdown",
      "metadata": {
        "id": "K9u-ej3xUxss"
      },
      "source": [
        "###### Images from a training batch"
      ]
    },
    {
      "cell_type": "code",
      "metadata": {
        "id": "I813txxcXnw3"
      },
      "source": [
        "def show_batch(image_batch, label_batch):\n",
        "    plt.figure(figsize=(10,10))\n",
        "    for n in range(BATCH_SIZE):\n",
        "        ax = plt.subplot(np.log(BATCH_SIZE) / np.log(2), np.log(BATCH_SIZE) / np.log(2), n+1)\n",
        "        plt.imshow(image_batch[n])\n",
        "        if label_batch[n][0] == 1:\n",
        "            plt.title(\"NORMAL\")\n",
        "        elif label_batch[n][1] == 1:\n",
        "            plt.title(\"PNEUMONIA\")\n",
        "        elif label_batch[n][2] == 1:\n",
        "            plt.title(\"COVID-19\")\n",
        "        plt.axis(\"off\")"
      ],
      "execution_count": null,
      "outputs": []
    },
    {
      "cell_type": "code",
      "metadata": {
        "id": "DEUTa0MkYbkd"
      },
      "source": [
        "image_batch, label_batch = next(iter(train_batched))"
      ],
      "execution_count": null,
      "outputs": []
    },
    {
      "cell_type": "code",
      "metadata": {
        "id": "Wqn6CTqeYfxP",
        "colab": {
          "base_uri": "https://localhost:8080/",
          "height": 739
        },
        "outputId": "fd0acf0f-04c4-4e84-b937-6d171d046990"
      },
      "source": [
        "show_batch(image_batch.numpy(), label_batch.numpy())"
      ],
      "execution_count": null,
      "outputs": [
        {
          "output_type": "stream",
          "text": [
            "Clipping input data to the valid range for imshow with RGB data ([0..1] for floats or [0..255] for integers).\n",
            "Clipping input data to the valid range for imshow with RGB data ([0..1] for floats or [0..255] for integers).\n",
            "Clipping input data to the valid range for imshow with RGB data ([0..1] for floats or [0..255] for integers).\n",
            "Clipping input data to the valid range for imshow with RGB data ([0..1] for floats or [0..255] for integers).\n",
            "Clipping input data to the valid range for imshow with RGB data ([0..1] for floats or [0..255] for integers).\n",
            "Clipping input data to the valid range for imshow with RGB data ([0..1] for floats or [0..255] for integers).\n",
            "Clipping input data to the valid range for imshow with RGB data ([0..1] for floats or [0..255] for integers).\n",
            "Clipping input data to the valid range for imshow with RGB data ([0..1] for floats or [0..255] for integers).\n"
          ],
          "name": "stderr"
        },
        {
          "output_type": "display_data",
          "data": {
            "image/png": "[encoded data removed]",
            "text/plain": [
              "<Figure size 720x720 with 8 Axes>"
            ]
          },
          "metadata": {
            "tags": []
          }
        }
      ]
    },
    {
      "cell_type": "markdown",
      "metadata": {
        "id": "cI0KUQpGLPEd"
      },
      "source": [
        "### Data Imbalance Correction"
      ]
    },
    {
      "cell_type": "markdown",
      "metadata": {
        "id": "FzCdoigwBELZ"
      },
      "source": [
        "###### Define class weights"
      ]
    },
    {
      "cell_type": "code",
      "metadata": {
        "id": "pMdpJ4HnPuyq",
        "colab": {
          "base_uri": "https://localhost:8080/"
        },
        "outputId": "350114f8-54c1-4c0a-88c9-3c86c2345967"
      },
      "source": [
        "class_weights = class_weight.compute_class_weight('balanced',\n",
        "                                                 np.unique(y_train),\n",
        "                                                 y_train)\n",
        "\n",
        "class_weight_dict = dict(enumerate(class_weights))\n",
        "\n",
        "weight_iter = iter(class_weight_dict.values())\n",
        "print('Weight for normal: \\t{:.2f}'.format(next(weight_iter)))\n",
        "print('Weight for pneumonia: \\t{:.2f}'.format(next(weight_iter)))\n",
        "print('Weight for COVID-19: \\t{:.2f}'.format(next(weight_iter)))"
      ],
      "execution_count": null,
      "outputs": [
        {
          "output_type": "stream",
          "text": [
            "Weight for normal: \t0.46\n",
            "Weight for pneumonia: \t13.04\n",
            "Weight for COVID-19: \t1.30\n"
          ],
          "name": "stdout"
        }
      ]
    },
    {
      "cell_type": "markdown",
      "metadata": {
        "id": "krill9Wz9Gnj"
      },
      "source": [
        "## Tuning Definition"
      ]
    },
    {
      "cell_type": "markdown",
      "metadata": {
        "id": "XCdKpgaf9kpt"
      },
      "source": [
        "###### Learning rate decay"
      ]
    },
    {
      "cell_type": "code",
      "metadata": {
        "id": "2VsbJE9M9LWm"
      },
      "source": [
        "learning_rate_decay = ReduceLROnPlateau(monitor='val_accuracy', patience = 2, verbose=1, factor=0.3, min_lr=0.000001)"
      ],
      "execution_count": null,
      "outputs": []
    },
    {
      "cell_type": "markdown",
      "metadata": {
        "id": "-IDnT4aPDieC"
      },
      "source": [
        "## ResNet50V2\n",
        "V1  \n",
        "Kaiming He, et al.\n",
        "**Deep residual learning for image recognition.**\n",
        "(2016)\n",
        "[Google Scholar](https://scholar.google.com/scholar?cluster=9281510746729853742&hl=en&as_sdt=0,5)\n",
        "\n",
        "V2  \n",
        "Kaiming He, et al.\n",
        "**Identity mappings in deep residual networks.** \n",
        "(2016)\n",
        "[Google Scholar](https://scholar.google.com/scholar?cluster=14035416619237709781&hl=en&as_sdt=0,5)"
      ]
    },
    {
      "cell_type": "markdown",
      "metadata": {
        "id": "7L4_TxkXLyfu"
      },
      "source": [
        "### Model definition"
      ]
    },
    {
      "cell_type": "markdown",
      "metadata": {
        "id": "xt92MFM4ByoZ"
      },
      "source": [
        "Transfer learning: initalize ResNet50V2 with weights pretrained on ImageNet"
      ]
    },
    {
      "cell_type": "code",
      "metadata": {
        "id": "2ipP0Ybvrr7k"
      },
      "source": [
        "def resnet50_builder():\n",
        "    model = Sequential(name='ResNet50')\n",
        "\n",
        "    # load pretrained ResNet50V2 (ImageNet) without output\n",
        "    resnet = ResNet50V2(include_top = False,\n",
        "                       pooling = 'avg',\n",
        "                       weights = 'imagenet',\n",
        "                       input_shape=(IMG_SIZE[0], IMG_SIZE[1], 3),)\n",
        "    \n",
        "    # make resnet layers trainable\n",
        "    resnet.trainable = True\n",
        "    # TODO try freeze first pretrained layers, train later layers\n",
        "    #for layer in resnet.layers[:103]:\n",
        "    #    layer.trainable=False\n",
        "    \n",
        "    # add output layer to model\n",
        "    model.add(resnet)\n",
        "\n",
        "    # TODO add global average pooling\n",
        "    #model.add(GlobalAveragePooling2D())\n",
        "    #model.add(Flatten())\n",
        "\n",
        "    # add classification layer for normal, pneumonia, COVID-19\n",
        "    model.add(Dense(3, activation = 'softmax', name='dense_output'))\n",
        "    \n",
        "    return model"
      ],
      "execution_count": null,
      "outputs": []
    },
    {
      "cell_type": "code",
      "metadata": {
        "colab": {
          "base_uri": "https://localhost:8080/"
        },
        "id": "q2u6dVLakymE",
        "outputId": "eeae2c89-2bc3-4c64-e72b-776af5bd4c7b"
      },
      "source": [
        "# TODO find good split for trainable part\n",
        "resnet50.layers[0].layers[104]\n",
        "len([layer for layer in resnet50.layers[0].layers if isinstance(layer, keras.layers.Conv2D)])"
      ],
      "execution_count": null,
      "outputs": [
        {
          "output_type": "execute_result",
          "data": {
            "text/plain": [
              "53"
            ]
          },
          "metadata": {
            "tags": []
          },
          "execution_count": 120
        }
      ]
    },
    {
      "cell_type": "code",
      "metadata": {
        "id": "pLPUP3e4Cp79"
      },
      "source": [
        "resnet50 = resnet50_builder()\n",
        "\n",
        "METRICS = [\n",
        "    'accuracy',\n",
        "    keras.metrics.Precision(name='precision'),\n",
        "    keras.metrics.Recall(name='recall')\n",
        "]\n",
        "\n",
        "resnet50.compile(\n",
        "    # very low learning rate to adapt pretrained weights to new data without\n",
        "    # overfitting because of small dataset\n",
        "    optimizer=Adam(lr=0.00001), # default: 0.001\n",
        "    loss='categorical_crossentropy',\n",
        "    metrics=METRICS\n",
        ")"
      ],
      "execution_count": null,
      "outputs": []
    },
    {
      "cell_type": "code",
      "metadata": {
        "colab": {
          "base_uri": "https://localhost:8080/"
        },
        "id": "uUSNCQehCKnt",
        "outputId": "4b5cc112-4d09-433d-b61f-7356a547eacc"
      },
      "source": [
        "resnet50.summary()"
      ],
      "execution_count": null,
      "outputs": [
        {
          "output_type": "stream",
          "text": [
            "Model: \"ResNet50\"\n",
            "_________________________________________________________________\n",
            "Layer (type)                 Output Shape              Param #   \n",
            "=================================================================\n",
            "resnet50v2 (Functional)      (None, 2048)              23564800  \n",
            "_________________________________________________________________\n",
            "dense_output (Dense)         (None, 3)                 6147      \n",
            "=================================================================\n",
            "Total params: 23,570,947\n",
            "Trainable params: 23,525,507\n",
            "Non-trainable params: 45,440\n",
            "_________________________________________________________________\n"
          ],
          "name": "stdout"
        }
      ]
    },
    {
      "cell_type": "markdown",
      "metadata": {
        "id": "FgNkma6kIB3_"
      },
      "source": [
        "### Training"
      ]
    },
    {
      "cell_type": "code",
      "metadata": {
        "colab": {
          "base_uri": "https://localhost:8080/"
        },
        "id": "F3BezZBuE3ze",
        "outputId": "80b40cc0-f592-4f28-e84b-071be9ab4bba"
      },
      "source": [
        "history_resnet = resnet50.fit(\n",
        "    train_batched,\n",
        "    steps_per_epoch=TRAIN_IMG_COUNT // BATCH_SIZE,\n",
        "    epochs=EPOCHS,\n",
        "    validation_data=val_batched,\n",
        "    validation_steps=VAL_IMG_COUNT // BATCH_SIZE,\n",
        "    #class_weight=class_weight_dict,\n",
        "    callbacks = [learning_rate_decay],\n",
        ")"
      ],
      "execution_count": null,
      "outputs": [
        {
          "output_type": "stream",
          "text": [
            "Epoch 1/10\n",
            "225/225 [==============================] - 29s 130ms/step - loss: 0.5755 - accuracy: 0.7894 - precision: 0.8456 - recall: 0.7089 - val_loss: 0.4195 - val_accuracy: 0.8400 - val_precision: 0.8490 - val_recall: 0.8150\n",
            "Epoch 2/10\n",
            "225/225 [==============================] - 28s 126ms/step - loss: 0.3308 - accuracy: 0.8989 - precision: 0.9090 - recall: 0.8878 - val_loss: 0.4266 - val_accuracy: 0.8100 - val_precision: 0.8238 - val_recall: 0.7950\n",
            "Epoch 3/10\n",
            "225/225 [==============================] - 28s 126ms/step - loss: 0.3126 - accuracy: 0.9011 - precision: 0.9051 - recall: 0.8956 - val_loss: 0.3918 - val_accuracy: 0.8600 - val_precision: 0.8653 - val_recall: 0.8350\n",
            "Epoch 4/10\n",
            "225/225 [==============================] - 28s 125ms/step - loss: 0.2769 - accuracy: 0.9039 - precision: 0.9110 - recall: 0.8983 - val_loss: 0.3496 - val_accuracy: 0.8700 - val_precision: 0.8814 - val_recall: 0.8550\n",
            "Epoch 5/10\n",
            "225/225 [==============================] - 29s 127ms/step - loss: 0.2379 - accuracy: 0.9200 - precision: 0.9216 - recall: 0.9144 - val_loss: 0.3273 - val_accuracy: 0.8800 - val_precision: 0.8883 - val_recall: 0.8750\n",
            "Epoch 6/10\n",
            "225/225 [==============================] - 28s 127ms/step - loss: 0.2277 - accuracy: 0.9233 - precision: 0.9318 - recall: 0.9183 - val_loss: 0.2644 - val_accuracy: 0.9100 - val_precision: 0.9091 - val_recall: 0.9000\n",
            "Epoch 7/10\n",
            "225/225 [==============================] - 29s 127ms/step - loss: 0.2036 - accuracy: 0.9289 - precision: 0.9343 - recall: 0.9250 - val_loss: 0.3156 - val_accuracy: 0.8650 - val_precision: 0.8737 - val_recall: 0.8650\n",
            "Epoch 8/10\n",
            "225/225 [==============================] - ETA: 0s - loss: 0.1914 - accuracy: 0.9350 - precision: 0.9384 - recall: 0.9306\n",
            "Epoch 00008: ReduceLROnPlateau reducing learning rate to 2.9999999242136253e-06.\n",
            "225/225 [==============================] - 28s 126ms/step - loss: 0.1914 - accuracy: 0.9350 - precision: 0.9384 - recall: 0.9306 - val_loss: 0.2820 - val_accuracy: 0.8950 - val_precision: 0.9036 - val_recall: 0.8900\n",
            "Epoch 9/10\n",
            "225/225 [==============================] - 28s 127ms/step - loss: 0.1793 - accuracy: 0.9394 - precision: 0.9433 - recall: 0.9339 - val_loss: 0.2587 - val_accuracy: 0.8900 - val_precision: 0.8980 - val_recall: 0.8800\n",
            "Epoch 10/10\n",
            "225/225 [==============================] - ETA: 0s - loss: 0.1713 - accuracy: 0.9378 - precision: 0.9437 - recall: 0.9306\n",
            "Epoch 00010: ReduceLROnPlateau reducing learning rate to 1e-06.\n",
            "225/225 [==============================] - 28s 126ms/step - loss: 0.1713 - accuracy: 0.9378 - precision: 0.9437 - recall: 0.9306 - val_loss: 0.2675 - val_accuracy: 0.9050 - val_precision: 0.9086 - val_recall: 0.8950\n"
          ],
          "name": "stdout"
        }
      ]
    },
    {
      "cell_type": "markdown",
      "metadata": {
        "id": "Di1VyxmxJH5w"
      },
      "source": [
        "### Evaluation"
      ]
    },
    {
      "cell_type": "markdown",
      "metadata": {
        "id": "XbfsxadwJH5w"
      },
      "source": [
        "###### Visualize performance"
      ]
    },
    {
      "cell_type": "code",
      "metadata": {
        "colab": {
          "base_uri": "https://localhost:8080/",
          "height": 241
        },
        "id": "_oZJFOkPJH5w",
        "outputId": "dbc19ed0-c51c-4b99-e7bb-21ca720931dc"
      },
      "source": [
        "fig, ax = plt.subplots(1, 4, figsize=(20, 3))\n",
        "ax = ax.ravel()\n",
        "\n",
        "for i, met in enumerate(['loss', 'accuracy', 'precision', 'recall']):\n",
        "    ax[i].plot(history_resnet.history[met])\n",
        "    ax[i].plot(history_resnet.history['val_' + met])\n",
        "    ax[i].set_title('Model {}'.format(met))\n",
        "    ax[i].set_xlabel('epochs')\n",
        "    ax[i].set_ylabel(met)\n",
        "    ax[i].legend(['train', 'val'])"
      ],
      "execution_count": null,
      "outputs": [
        {
          "output_type": "display_data",
          "data": {
            "image/png": "[encoded data removed]",
            "text/plain": [
              "<Figure size 1440x216 with 4 Axes>"
            ]
          },
          "metadata": {
            "tags": []
          }
        }
      ]
    },
    {
      "cell_type": "markdown",
      "metadata": {
        "id": "GGg3GCCZJH5w"
      },
      "source": [
        "### Predict on test set"
      ]
    },
    {
      "cell_type": "code",
      "metadata": {
        "colab": {
          "base_uri": "https://localhost:8080/"
        },
        "id": "obRpKMhkJH5w",
        "outputId": "bc58b14c-5b7d-47a6-8067-7803ef1af2d7"
      },
      "source": [
        "loss, acc, prec, rec = resnet50.evaluate(test_batched)\n",
        "print(\"Loss of the model is - \" , loss)\n",
        "print(\"Accuracy of the model is - \" , acc*100 , \"%\")\n",
        "print(\"Precision of the model is - \" , prec)\n",
        "print(\"Recall of the model is - \" , rec)"
      ],
      "execution_count": null,
      "outputs": [
        {
          "output_type": "stream",
          "text": [
            "25/25 [==============================] - 1s 29ms/step - loss: 0.2498 - accuracy: 0.9150 - precision: 0.9192 - recall: 0.9100\n",
            "Loss of the model is -  0.24979658424854279\n",
            "Accuracy of the model is -  91.50000214576721 %\n",
            "Precision of the model is -  0.9191918969154358\n",
            "Recall of the model is -  0.9100000262260437\n"
          ],
          "name": "stdout"
        }
      ]
    },
    {
      "cell_type": "markdown",
      "metadata": {
        "id": "u2wAzFKNDqkW"
      },
      "source": [
        "## DarkNet (Based on DarkCovidNet)\n",
        "\n",
        "Tulin Ozturk, et al.\n",
        "**Automated detection of COVID-19 cases using deep neural networks with X-ray images.**\n",
        "(2020)\n",
        "[Github](https://github.com/ieee8023/covid-chestxray-dataset)\n",
        "[Google Scholar](https://scholar.google.com/scholar_lookup?title=Automated%20detection%20of%20COVID-19%20cases%20using%20deep%20neural%20networks%20with%20X-ray%20images&publication_year=2020&author=T.%20Ozturk)"
      ]
    },
    {
      "cell_type": "markdown",
      "metadata": {
        "id": "Ou4BK20QL7Qx"
      },
      "source": [
        "### Model definition"
      ]
    },
    {
      "cell_type": "markdown",
      "metadata": {
        "id": "NHyd9x1nIKqP"
      },
      "source": [
        "DarkNet block definition"
      ]
    },
    {
      "cell_type": "code",
      "metadata": {
        "id": "3kXgS5fktb70"
      },
      "source": [
        "def darknet_block(filters, kernel_size=3, strides=1):\n",
        "    block = Sequential([\n",
        "        ZeroPadding2D(padding=(1, 1)),\n",
        "        Conv2D(filters=filters, kernel_size=kernel_size, strides=strides, padding='valid', use_bias=False),\n",
        "        BatchNormalization(),\n",
        "        LeakyReLU(alpha=0.1),\n",
        "    ])\n",
        "    return block\n",
        "\n",
        "def triple_conv(prev, filters):\n",
        "    return Sequential([\n",
        "        darknet_block(filters),\n",
        "        darknet_block(prev, kernel_size=1),  \n",
        "        darknet_block(filters)\n",
        "    ])\n",
        "\n",
        "def max_pool():\n",
        "    return MaxPool2D(pool_size=(2, 2), strides=2, padding='valid')"
      ],
      "execution_count": null,
      "outputs": []
    },
    {
      "cell_type": "code",
      "metadata": {
        "id": "USJB4MewL7hw"
      },
      "source": [
        "def darknet_builder():\n",
        "    model = Sequential([\n",
        "        Input(shape=(IMG_SIZE[0], IMG_SIZE[1], 3)),\n",
        "        darknet_block(8),\n",
        "        max_pool(),\n",
        "        darknet_block(16),\n",
        "        max_pool(),\n",
        "        triple_conv(16, 32),\n",
        "        max_pool(),\n",
        "        triple_conv(32, 64),\n",
        "        max_pool(),\n",
        "        triple_conv(64, 128),\n",
        "        max_pool(),\n",
        "        triple_conv(128, 256),\n",
        "        darknet_block(128, kernel_size=1),\n",
        "        darknet_block(256),\n",
        "        darknet_block(3),\n",
        "        Flatten(),\n",
        "        Dense(units=3, activation='softmax')\n",
        "    ], name='DarkNet')\n",
        "    \n",
        "    return model"
      ],
      "execution_count": null,
      "outputs": []
    },
    {
      "cell_type": "code",
      "metadata": {
        "id": "ATnb6PQFCm9j"
      },
      "source": [
        "darknet = darknet_builder()\n",
        "\n",
        "METRICS = [\n",
        "    'accuracy',\n",
        "    keras.metrics.Precision(name='precision'),\n",
        "    keras.metrics.Recall(name='recall')\n",
        "]\n",
        "\n",
        "darknet.compile(\n",
        "    optimizer=Adam(lr=0.001), # default: 0.001\n",
        "    loss='categorical_crossentropy',\n",
        "    metrics=METRICS\n",
        ")"
      ],
      "execution_count": null,
      "outputs": []
    },
    {
      "cell_type": "code",
      "metadata": {
        "id": "NbeNGNz_oFm4",
        "colab": {
          "base_uri": "https://localhost:8080/"
        },
        "outputId": "6680c970-50df-42da-ef52-58ab171af845"
      },
      "source": [
        "darknet.summary()\n",
        "darknet.layers[4].layers[1].summary()"
      ],
      "execution_count": null,
      "outputs": [
        {
          "output_type": "stream",
          "text": [
            "Model: \"DarkNet\"\n",
            "_________________________________________________________________\n",
            "Layer (type)                 Output Shape              Param #   \n",
            "=================================================================\n",
            "sequential_15 (Sequential)   (None, 224, 224, 8)       248       \n",
            "_________________________________________________________________\n",
            "max_pooling2d_27 (MaxPooling (None, 112, 112, 8)       0         \n",
            "_________________________________________________________________\n",
            "sequential_16 (Sequential)   (None, 112, 112, 16)      1216      \n",
            "_________________________________________________________________\n",
            "max_pooling2d_28 (MaxPooling (None, 56, 56, 16)        0         \n",
            "_________________________________________________________________\n",
            "sequential_20 (Sequential)   (None, 58, 58, 32)        10048     \n",
            "_________________________________________________________________\n",
            "max_pooling2d_29 (MaxPooling (None, 29, 29, 32)        0         \n",
            "_________________________________________________________________\n",
            "sequential_24 (Sequential)   (None, 31, 31, 64)        39552     \n",
            "_________________________________________________________________\n",
            "max_pooling2d_30 (MaxPooling (None, 15, 15, 64)        0         \n",
            "_________________________________________________________________\n",
            "sequential_28 (Sequential)   (None, 17, 17, 128)       156928    \n",
            "_________________________________________________________________\n",
            "max_pooling2d_31 (MaxPooling (None, 8, 8, 128)         0         \n",
            "_________________________________________________________________\n",
            "sequential_32 (Sequential)   (None, 10, 10, 256)       625152    \n",
            "_________________________________________________________________\n",
            "sequential_33 (Sequential)   (None, 12, 12, 128)       33280     \n",
            "_________________________________________________________________\n",
            "sequential_34 (Sequential)   (None, 12, 12, 256)       295936    \n",
            "_________________________________________________________________\n",
            "sequential_35 (Sequential)   (None, 12, 12, 3)         6924      \n",
            "_________________________________________________________________\n",
            "flatten (Flatten)            (None, 432)               0         \n",
            "_________________________________________________________________\n",
            "dense_9 (Dense)              (None, 3)                 1299      \n",
            "=================================================================\n",
            "Total params: 1,170,583\n",
            "Trainable params: 1,167,361\n",
            "Non-trainable params: 3,222\n",
            "_________________________________________________________________\n",
            "Model: \"sequential_18\"\n",
            "_________________________________________________________________\n",
            "Layer (type)                 Output Shape              Param #   \n",
            "=================================================================\n",
            "zero_padding2d_3 (ZeroPaddin (None, 58, 58, 32)        0         \n",
            "_________________________________________________________________\n",
            "conv2d_3 (Conv2D)            (None, 58, 58, 16)        512       \n",
            "_________________________________________________________________\n",
            "batch_normalization_3 (Batch (None, 58, 58, 16)        64        \n",
            "_________________________________________________________________\n",
            "leaky_re_lu_3 (LeakyReLU)    (None, 58, 58, 16)        0         \n",
            "=================================================================\n",
            "Total params: 576\n",
            "Trainable params: 544\n",
            "Non-trainable params: 32\n",
            "_________________________________________________________________\n"
          ],
          "name": "stdout"
        }
      ]
    },
    {
      "cell_type": "markdown",
      "metadata": {
        "id": "tjP8oSApJPeJ"
      },
      "source": [
        "### Training"
      ]
    },
    {
      "cell_type": "code",
      "metadata": {
        "id": "KvnovgAKJ5wY",
        "colab": {
          "base_uri": "https://localhost:8080/"
        },
        "outputId": "303817d4-4c27-46bc-dbae-717725beca6c"
      },
      "source": [
        "history_darknet = darknet.fit(\n",
        "    train_batched,\n",
        "    steps_per_epoch=TRAIN_IMG_COUNT // BATCH_SIZE,\n",
        "    epochs=EPOCHS,\n",
        "    validation_data=val_batched,\n",
        "    validation_steps=VAL_IMG_COUNT // BATCH_SIZE,\n",
        "    #class_weight=class_weight_dict,\n",
        "    callbacks = [learning_rate_decay],\n",
        ")"
      ],
      "execution_count": null,
      "outputs": [
        {
          "output_type": "stream",
          "text": [
            "Epoch 1/10\n",
            "225/225 [==============================] - 19s 85ms/step - loss: 0.6501 - accuracy: 0.7206 - precision: 0.7222 - recall: 0.7150 - val_loss: 0.6515 - val_accuracy: 0.6900 - val_precision: 0.6900 - val_recall: 0.6900\n",
            "Epoch 2/10\n",
            "225/225 [==============================] - 19s 84ms/step - loss: 0.6158 - accuracy: 0.7139 - precision: 0.7249 - recall: 0.6939 - val_loss: 2.5899 - val_accuracy: 0.6900 - val_precision: 0.6884 - val_recall: 0.6850\n",
            "Epoch 3/10\n",
            "225/225 [==============================] - ETA: 0s - loss: 0.6148 - accuracy: 0.7189 - precision: 0.7256 - recall: 0.7111\n",
            "Epoch 00003: ReduceLROnPlateau reducing learning rate to 0.0029999999329447745.\n",
            "225/225 [==============================] - 19s 84ms/step - loss: 0.6148 - accuracy: 0.7189 - precision: 0.7256 - recall: 0.7111 - val_loss: 1.1224 - val_accuracy: 0.6850 - val_precision: 0.6850 - val_recall: 0.6850\n",
            "Epoch 4/10\n",
            "225/225 [==============================] - 19s 84ms/step - loss: 0.5674 - accuracy: 0.7483 - precision: 0.7638 - recall: 0.7294 - val_loss: 0.5384 - val_accuracy: 0.7700 - val_precision: 0.7895 - val_recall: 0.7500\n",
            "Epoch 5/10\n",
            "225/225 [==============================] - 19s 85ms/step - loss: 0.5478 - accuracy: 0.7728 - precision: 0.7857 - recall: 0.7578 - val_loss: 0.5459 - val_accuracy: 0.7700 - val_precision: 0.7876 - val_recall: 0.7600\n",
            "Epoch 6/10\n",
            "225/225 [==============================] - ETA: 0s - loss: 0.5448 - accuracy: 0.7750 - precision: 0.7851 - recall: 0.7511\n",
            "Epoch 00006: ReduceLROnPlateau reducing learning rate to 0.0009000000078231095.\n",
            "225/225 [==============================] - 19s 85ms/step - loss: 0.5448 - accuracy: 0.7750 - precision: 0.7851 - recall: 0.7511 - val_loss: 1.0485 - val_accuracy: 0.7050 - val_precision: 0.7085 - val_recall: 0.7050\n",
            "Epoch 7/10\n",
            "225/225 [==============================] - 19s 85ms/step - loss: 0.5089 - accuracy: 0.7894 - precision: 0.7964 - recall: 0.7717 - val_loss: 0.5411 - val_accuracy: 0.7800 - val_precision: 0.7868 - val_recall: 0.7750\n",
            "Epoch 8/10\n",
            "225/225 [==============================] - 19s 84ms/step - loss: 0.4828 - accuracy: 0.8028 - precision: 0.8160 - recall: 0.7933 - val_loss: 0.5424 - val_accuracy: 0.7950 - val_precision: 0.8071 - val_recall: 0.7950\n",
            "Epoch 9/10\n",
            "225/225 [==============================] - 19s 85ms/step - loss: 0.4755 - accuracy: 0.8144 - precision: 0.8223 - recall: 0.8072 - val_loss: 0.5085 - val_accuracy: 0.7950 - val_precision: 0.8103 - val_recall: 0.7900\n",
            "Epoch 10/10\n",
            "225/225 [==============================] - 19s 84ms/step - loss: 0.4614 - accuracy: 0.8217 - precision: 0.8335 - recall: 0.8094 - val_loss: 0.4976 - val_accuracy: 0.8050 - val_precision: 0.8135 - val_recall: 0.7850\n"
          ],
          "name": "stdout"
        }
      ]
    },
    {
      "cell_type": "markdown",
      "metadata": {
        "id": "Dm-sYRzGIW77"
      },
      "source": [
        "### Evaluation"
      ]
    },
    {
      "cell_type": "markdown",
      "metadata": {
        "id": "AXHSohpKu0wi"
      },
      "source": [
        "###### Visualize performance"
      ]
    },
    {
      "cell_type": "code",
      "metadata": {
        "id": "wvBRu37ODLr0",
        "colab": {
          "base_uri": "https://localhost:8080/",
          "height": 241
        },
        "outputId": "82e4945e-604d-4d77-c761-668a3cbd8e43"
      },
      "source": [
        "fig, ax = plt.subplots(1, 4, figsize=(20, 3))\n",
        "ax = ax.ravel()\n",
        "\n",
        "for i, met in enumerate(['loss', 'accuracy', 'precision', 'recall']):\n",
        "    ax[i].plot(history_darknet.history[met])\n",
        "    ax[i].plot(history_darknet.history['val_' + met])\n",
        "    ax[i].set_title('Model {}'.format(met))\n",
        "    ax[i].set_xlabel('epochs')\n",
        "    ax[i].set_ylabel(met)\n",
        "    ax[i].legend(['train', 'val'])"
      ],
      "execution_count": null,
      "outputs": [
        {
          "output_type": "display_data",
          "data": {
            "image/png": "[encoded data removed]",
            "text/plain": [
              "<Figure size 1440x216 with 4 Axes>"
            ]
          },
          "metadata": {
            "tags": []
          }
        }
      ]
    },
    {
      "cell_type": "markdown",
      "metadata": {
        "id": "GA0cPAZXu4Cs"
      },
      "source": [
        "### Predict on test set"
      ]
    },
    {
      "cell_type": "code",
      "metadata": {
        "id": "oIaB_KzBJeND",
        "colab": {
          "base_uri": "https://localhost:8080/"
        },
        "outputId": "d595e7b9-8a0a-4fa1-91c9-04f343254ef5"
      },
      "source": [
        "loss, acc, prec, rec = darknet.evaluate(test_batched)\n",
        "print(\"Loss of the model is - \" , loss)\n",
        "print(\"Accuracy of the model is - \" , acc*100 , \"%\")\n",
        "print(\"Precision of the model is - \" , prec)\n",
        "print(\"Recall of the model is - \" , rec)"
      ],
      "execution_count": null,
      "outputs": [
        {
          "output_type": "stream",
          "text": [
            "25/25 [==============================] - 0s 11ms/step - loss: 0.6398 - accuracy: 0.7000 - precision: 0.7005 - recall: 0.6900\n",
            "Loss of the model is -  0.6398041248321533\n",
            "Accuracy of the model is -  69.9999988079071 %\n",
            "Precision of the model is -  0.700507640838623\n",
            "Recall of the model is -  0.6899999976158142\n"
          ],
          "name": "stdout"
        }
      ]
    },
    {
      "cell_type": "code",
      "metadata": {
        "id": "JjjpVWyZscvY"
      },
      "source": [
        ""
      ],
      "execution_count": null,
      "outputs": []
    }
  ]
}