{
  "nbformat": 4,
  "nbformat_minor": 0,
  "metadata": {
    "colab": {
      "name": "x-covid_multiclass.ipynb",
      "provenance": [],
      "collapsed_sections": [],
      "authorship_tag": "ABX9TyPRaYBB7Ly86IzKe/oMJreo",
      "include_colab_link": true
    },
    "kernelspec": {
      "name": "python3",
      "display_name": "Python 3"
    },
    "accelerator": "GPU"
  },
  "cells": [
    {
      "cell_type": "markdown",
      "metadata": {
        "id": "view-in-github",
        "colab_type": "text"
      },
      "source": [
        "<a href=\"https://colab.research.google.com/github/luckyos-code/X-COVID/blob/main/multiclass_classification.ipynb\" target=\"_parent\"><img src=\"https://colab.research.google.com/assets/colab-badge.svg\" alt=\"Open In Colab\"/></a>"
      ]
    },
    {
      "cell_type": "markdown",
      "metadata": {
        "id": "Ftwh4pLJlAX-"
      },
      "source": [
        "*OLD VERSION, SEE BINARY FOR UPDATE*\n",
        "# Detection of COVID-19 in X-Ray Images (COVID-19 vs. Pneumonia vs Normal)"
      ]
    },
    {
      "cell_type": "markdown",
      "metadata": {
        "id": "x7JW49t26X0P"
      },
      "source": [
        "##### Notebook settings"
      ]
    },
    {
      "cell_type": "code",
      "metadata": {
        "id": "RBIvImfCIDZM"
      },
      "source": [
        "%reload_ext autoreload\n",
        "%autoreload 2\n",
        "%matplotlib inline"
      ],
      "execution_count": null,
      "outputs": []
    },
    {
      "cell_type": "markdown",
      "metadata": {
        "id": "tPgPDDVYD_Dc"
      },
      "source": [
        "## Prerequisites"
      ]
    },
    {
      "cell_type": "markdown",
      "metadata": {
        "id": "vWIkWqjezUjc"
      },
      "source": [
        "###### Init Kaggle-API\n",
        "**Important:** Before running the cells below follow [this](https://stackoverflow.com/questions/49310470/using-kaggle-datasets-in-google-colab) stackoverflow questions accepted answer to get the kaggle.json file. Once you have the json file on your local machine,run the code below and upload the json file when prompted in the output cell. ([credit](https://github.com/mobassir94/Practicing-Tensorflow/blob/master/kaggle_Pneumonia_Detection.ipynb))\n",
        "\n",
        "**Important:** Before running the cells below follow [this link](https://www.kaggle.com/c/rsna-pneumonia-detection-challenge) click on 'Late Submission' and when prompted accept the competition rules."
      ]
    },
    {
      "cell_type": "code",
      "metadata": {
        "id": "IQQxkLtPzYRu",
        "colab": {
          "resources": {
            "http://localhost:8080/nbextensions/google.colab/files.js": {
              "data": "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",
              "ok": true,
              "headers": [
                [
                  "content-type",
                  "application/javascript"
                ]
              ],
              "status": 200,
              "status_text": "OK"
            }
          },
          "base_uri": "https://localhost:8080/",
          "height": 128
        },
        "outputId": "7de6cee7-5fc6-44e7-defb-cc70700729bd"
      },
      "source": [
        "!pip uninstall -q -y kaggle\n",
        "!pip install -q --upgrade pip\n",
        "!pip install -q kaggle==1.5.6\n",
        "!mkdir  /root/.kaggle\n",
        "from google.colab import files as colab\n",
        "colab.upload()\n",
        "!cp kaggle.json /root/.kaggle && chmod 600 /root/.kaggle/kaggle.json\n",
        "!rm kaggle.json"
      ],
      "execution_count": null,
      "outputs": [
        {
          "output_type": "stream",
          "text": [
            "\u001b[K     |████████████████████████████████| 1.5MB 8.0MB/s \n",
            "\u001b[K     |████████████████████████████████| 58 kB 4.6 MB/s \n",
            "\u001b[?25h  Building wheel for kaggle (setup.py) ... \u001b[?25l\u001b[?25hdone\n"
          ],
          "name": "stdout"
        },
        {
          "output_type": "display_data",
          "data": {
            "text/html": [
              "\n",
              "     <input type=\"file\" id=\"files-2edd825b-029d-4b54-8def-b7569f412555\" name=\"files[]\" multiple disabled\n",
              "        style=\"border:none\" />\n",
              "     <output id=\"result-2edd825b-029d-4b54-8def-b7569f412555\">\n",
              "      Upload widget is only available when the cell has been executed in the\n",
              "      current browser session. Please rerun this cell to enable.\n",
              "      </output>\n",
              "      <script src=\"/nbextensions/google.colab/files.js\"></script> "
            ],
            "text/plain": [
              "<IPython.core.display.HTML object>"
            ]
          },
          "metadata": {
            "tags": []
          }
        },
        {
          "output_type": "stream",
          "text": [
            "Saving kaggle.json to kaggle.json\n"
          ],
          "name": "stdout"
        }
      ]
    },
    {
      "cell_type": "markdown",
      "metadata": {
        "id": "E34N6Rh2EEES"
      },
      "source": [
        "##### Download datasets"
      ]
    },
    {
      "cell_type": "markdown",
      "metadata": {
        "id": "Abs5BpzYWMtn"
      },
      "source": [
        "###### *COVIDx dataset* [Github](https://github.com/lindawangg/COVID-Net) "
      ]
    },
    {
      "cell_type": "code",
      "metadata": {
        "id": "kVp9tnOoWGRs",
        "colab": {
          "base_uri": "https://localhost:8080/"
        },
        "outputId": "f0769e5e-798b-4291-90db-1ba3cdd643c1"
      },
      "source": [
        "!git clone https://github.com/lindawangg/COVID-Net"
      ],
      "execution_count": null,
      "outputs": [
        {
          "output_type": "stream",
          "text": [
            "Cloning into 'COVID-Net'...\n",
            "remote: Enumerating objects: 136, done.\u001b[K\n",
            "remote: Counting objects: 100% (136/136), done.\u001b[K\n",
            "remote: Compressing objects: 100% (106/106), done.\u001b[K\n",
            "remote: Total 614 (delta 76), reused 62 (delta 30), pack-reused 478\u001b[K\n",
            "Receiving objects: 100% (614/614), 7.30 MiB | 20.21 MiB/s, done.\n",
            "Resolving deltas: 100% (361/361), done.\n"
          ],
          "name": "stdout"
        }
      ]
    },
    {
      "cell_type": "markdown",
      "metadata": {
        "id": "lpCPwoYMLqd6"
      },
      "source": [
        "###### *COVID-19 image data collection*\n",
        "J.P. Cohen, P. Morrison, L. Dao.\n",
        "COVID-19 image data collection.\n",
        "(2020)\n",
        "[Github](https://github.com/ieee8023/covid-chestxray-dataset)\n",
        "[Google Scholar](https://scholar.google.com/scholar_lookup?title=COVID-19%20image%20data%20collection&publication_year=2020&author=J.P.%20Cohen&author=P.%20Morrison&author=L.%20Dao)"
      ]
    },
    {
      "cell_type": "code",
      "metadata": {
        "id": "HyNS_N4IITIr",
        "colab": {
          "base_uri": "https://localhost:8080/"
        },
        "outputId": "54f8d7a7-f9be-4aac-8adb-4254e08f20fe"
      },
      "source": [
        "!git clone https://github.com/ieee8023/covid-chestxray-dataset.git"
      ],
      "execution_count": null,
      "outputs": [
        {
          "output_type": "stream",
          "text": [
            "Cloning into 'covid-chestxray-dataset'...\n",
            "remote: Enumerating objects: 8, done.\u001b[K\n",
            "remote: Counting objects: 100% (8/8), done.\u001b[K\n",
            "remote: Compressing objects: 100% (8/8), done.\u001b[K\n",
            "remote: Total 3622 (delta 3), reused 2 (delta 0), pack-reused 3614\u001b[K\n",
            "Receiving objects: 100% (3622/3622), 632.88 MiB | 43.74 MiB/s, done.\n",
            "Resolving deltas: 100% (1436/1436), done.\n",
            "Checking out files: 100% (1173/1173), done.\n"
          ],
          "name": "stdout"
        }
      ]
    },
    {
      "cell_type": "markdown",
      "metadata": {
        "id": "FzoSYW48J-MM"
      },
      "source": [
        "###### *Figure 1 COVID-19 Chest X-ray Dataset Initiative* [Github](https://github.com/agchung/Figure1-COVID-chestxray-dataset)"
      ]
    },
    {
      "cell_type": "code",
      "metadata": {
        "id": "qRyff9lZKBTv",
        "colab": {
          "base_uri": "https://localhost:8080/"
        },
        "outputId": "7ac85f76-0173-43b1-ac93-b92753abcb50"
      },
      "source": [
        "!git clone https://github.com/agchung/Figure1-COVID-chestxray-dataset.git"
      ],
      "execution_count": null,
      "outputs": [
        {
          "output_type": "stream",
          "text": [
            "Cloning into 'Figure1-COVID-chestxray-dataset'...\n",
            "remote: Enumerating objects: 112, done.\u001b[K\n",
            "remote: Counting objects: 100% (112/112), done.\u001b[K\n",
            "remote: Compressing objects: 100% (97/97), done.\u001b[K\n",
            "remote: Total 112 (delta 28), reused 95 (delta 14), pack-reused 0\u001b[K\n",
            "Receiving objects: 100% (112/112), 14.13 MiB | 42.30 MiB/s, done.\n",
            "Resolving deltas: 100% (28/28), done.\n"
          ],
          "name": "stdout"
        }
      ]
    },
    {
      "cell_type": "markdown",
      "metadata": {
        "id": "o7-OqkgeJ_9I"
      },
      "source": [
        "###### *Actualmed COVID-19 Chest X-ray Dataset Initiative* [Github](https://github.com/agchung/Actualmed-COVID-chestxray-dataset)\n"
      ]
    },
    {
      "cell_type": "code",
      "metadata": {
        "id": "1cojDRHgKBoh",
        "colab": {
          "base_uri": "https://localhost:8080/"
        },
        "outputId": "4643e267-e5a8-4222-a153-994428c91ddd"
      },
      "source": [
        "!git clone https://github.com/agchung/Actualmed-COVID-chestxray-dataset.git"
      ],
      "execution_count": null,
      "outputs": [
        {
          "output_type": "stream",
          "text": [
            "Cloning into 'Actualmed-COVID-chestxray-dataset'...\n",
            "remote: Enumerating objects: 10, done.\u001b[K\n",
            "remote: Counting objects: 100% (10/10), done.\u001b[K\n",
            "remote: Compressing objects: 100% (9/9), done.\u001b[K\n",
            "remote: Total 422 (delta 1), reused 6 (delta 1), pack-reused 412\u001b[K\n",
            "Receiving objects: 100% (422/422), 1.56 GiB | 33.19 MiB/s, done.\n",
            "Resolving deltas: 100% (16/16), done.\n",
            "Checking out files: 100% (240/240), done.\n"
          ],
          "name": "stdout"
        }
      ]
    },
    {
      "cell_type": "markdown",
      "metadata": {
        "id": "usy6McPQLCI5"
      },
      "source": [
        "###### *COVID-19 Radiography Database*  \n",
        "M.E.H. Chowdhury, T. Rahman, A. Khandakar, R. Mazhar, M.A. Kadir, Z.B. Mahbub, K.R. Islam, M.S. Khan, A. Iqbal, N. Al-Emadi, M.B.I. Reaz, M. T. Islam,\n",
        "“Can AI help in screening Viral and COVID-19 pneumonia?”\n",
        "(2020)\n",
        "[Kaggle](https://www.kaggle.com/tawsifurrahman/covid19-radiography-database)\n",
        "\n",
        "**Important:** Before running the cell below follow [this](https://stackoverflow.com/questions/49310470/using-kaggle-datasets-in-google-colab) stackoverflow questions accepted answer to get the kaggle.json file. Once you have the json file on your local machine,run the code below and upload the json file there. ([credit](https://github.com/mobassir94/Practicing-Tensorflow/blob/master/kaggle_Pneumonia_Detection.ipynb))"
      ]
    },
    {
      "cell_type": "code",
      "metadata": {
        "id": "Rg1AzTw0BHBo",
        "colab": {
          "base_uri": "https://localhost:8080/"
        },
        "outputId": "4a3e9fd7-f9f7-4f07-c2b1-d4cf34a5f2c9"
      },
      "source": [
        "!kaggle datasets download -d tawsifurrahman/covid19-radiography-database\n",
        "!unzip -q covid19-radiography-database.zip\n",
        "!rm covid19-radiography-database.zip"
      ],
      "execution_count": null,
      "outputs": [
        {
          "output_type": "stream",
          "text": [
            "Downloading covid19-radiography-database.zip to /content\n",
            " 99% 1.14G/1.15G [00:26<00:00, 55.3MB/s]\n",
            "100% 1.15G/1.15G [00:26<00:00, 46.8MB/s]\n"
          ],
          "name": "stdout"
        }
      ]
    },
    {
      "cell_type": "markdown",
      "metadata": {
        "id": "hEGlFBzhLTEL"
      },
      "source": [
        "###### *RSNA Pneumonia Detection Challenge*\n",
        "Radiological Society of North America\n",
        "(2018)\n",
        "[Kaggle](https://www.kaggle.com/c/rsna-pneumonia-detection-challenge)\n",
        "\n",
        "Based on: Wang X, Peng Y, Lu L, Lu Z, Bagheri M, Summers RM. ChestX-ray8: Hospital-scale Chest X-ray Database and Benchmarks on Weakly-Supervised Classification and Localization of Common Thorax Diseases. IEEE CVPR 2017, http://openaccess.thecvf.com/content_cvpr_2017/papers/Wang_ChestX-ray8_Hospital-Scale_Chest_CVPR_2017_paper.pdf\n",
        "\n",
        "**Important:** Before running the cell below follow [this link](https://www.kaggle.com/c/rsna-pneumonia-detection-challenge) click on 'Late Submission' and when prompted accept the competition rules."
      ]
    },
    {
      "cell_type": "code",
      "metadata": {
        "id": "m8LxpdJeLqV2",
        "colab": {
          "base_uri": "https://localhost:8080/"
        },
        "outputId": "c115c582-c625-410b-d927-da74cc1a20fb"
      },
      "source": [
        "!kaggle competitions download -c rsna-pneumonia-detection-challenge -p 'rsna-pneumonia-detection-challenge'\n",
        "!unzip -q rsna-pneumonia-detection-challenge/rsna-pneumonia-detection-challenge.zip -d rsna-pneumonia-detection-challenge\n",
        "!rm rsna-pneumonia-detection-challenge/rsna-pneumonia-detection-challenge.zip"
      ],
      "execution_count": null,
      "outputs": [
        {
          "output_type": "stream",
          "text": [
            "Downloading rsna-pneumonia-detection-challenge.zip to rsna-pneumonia-detection-challenge\n",
            "100% 3.65G/3.66G [01:38<00:00, 37.1MB/s]\n",
            "100% 3.66G/3.66G [01:39<00:00, 39.7MB/s]\n"
          ],
          "name": "stdout"
        }
      ]
    },
    {
      "cell_type": "markdown",
      "metadata": {
        "id": "7YVl3JdtTnc3"
      },
      "source": [
        "###### Install packages"
      ]
    },
    {
      "cell_type": "code",
      "metadata": {
        "id": "VRbVPW5UTqwj",
        "colab": {
          "base_uri": "https://localhost:8080/"
        },
        "outputId": "e352f54e-fdc2-48d7-f946-4c88278b5b57"
      },
      "source": [
        "!pip install -q pydicom"
      ],
      "execution_count": null,
      "outputs": [
        {
          "output_type": "stream",
          "text": [
            "\u001b[K     |████████████████████████████████| 1.9 MB 7.7 MB/s \n",
            "\u001b[?25h"
          ],
          "name": "stdout"
        }
      ]
    },
    {
      "cell_type": "markdown",
      "metadata": {
        "id": "ZLiwnMq8Kuhf"
      },
      "source": [
        "##### Import libraries"
      ]
    },
    {
      "cell_type": "code",
      "metadata": {
        "id": "4geb06ZXk9sr"
      },
      "source": [
        "import numpy as np\n",
        "import pandas as pd\n",
        "import matplotlib.pyplot as plt\n",
        "import tensorflow as tf\n",
        "import pydicom as dicom\n",
        "import seaborn as sns\n",
        "\n",
        "from sklearn.preprocessing import OneHotEncoder\n",
        "from sklearn.model_selection import train_test_split\n",
        "from sklearn.utils import shuffle, class_weight\n",
        "\n",
        "import keras\n",
        "from keras.layers import Input, Conv2D, Activation, BatchNormalization, MaxPool2D, GlobalAveragePooling2D, Dense, Dropout, LeakyReLU, Flatten, ZeroPadding2D\n",
        "from keras import layers\n",
        "from tensorflow.keras.applications import ResNet50V2, EfficientNetB4\n",
        "from keras.callbacks import ReduceLROnPlateau, EarlyStopping, ModelCheckpoint\n",
        "from keras.layers.merge import add\n",
        "from keras.activations import relu, softmax\n",
        "from keras.models import Sequential\n",
        "from keras import regularizers\n",
        "from keras.preprocessing.image import ImageDataGenerator\n",
        "from keras.utils import to_categorical\n",
        "from keras.optimizers import Adam\n",
        "\n",
        "import os, shutil, random, cv2\n",
        "from shutil import copyfile\n",
        "from distutils.dir_util import copy_tree\n",
        "from tqdm import tqdm"
      ],
      "execution_count": null,
      "outputs": []
    },
    {
      "cell_type": "markdown",
      "metadata": {
        "id": "rguGows5cq65"
      },
      "source": [
        "##### Define constants"
      ]
    },
    {
      "cell_type": "code",
      "metadata": {
        "id": "i3YYpkxoc0t0"
      },
      "source": [
        "AUTOTUNE = tf.data.experimental.AUTOTUNE\n",
        "# GCS_PATH = KaggleDatasets().get_gcs_path()\n",
        "BATCH_SIZE = 8\n",
        "IMG_SIZE = [224, 224]\n",
        "EPOCHS = 20\n",
        "# train/test split\n",
        "SPLIT = 0.15\n",
        "IMBALANCE_RATIO = 1.5\n",
        "# Reset the seed so all runs are the same.\n",
        "seed = 42\n",
        "np.random.seed(seed)\n",
        "random.seed(seed)\n",
        "random_state = 42"
      ],
      "execution_count": null,
      "outputs": []
    },
    {
      "cell_type": "markdown",
      "metadata": {
        "id": "_yW-sKkgixOX"
      },
      "source": [
        "## Data\n",
        "**COVIDx dataset:** [Github](https://github.com/lindawangg/COVID-Net/blob/master/docs/COVIDx.md)  \n",
        "L. Wang, Z. Q. Lin, & A. Wong.\n",
        "Covid-net: A tailored deep convolutional neural network design for detection of covid-19 cases from chest x-ray images.\n",
        "(2020)\n",
        "[Github](https://github.com/lindawangg/COVID-Net)\n",
        "[Google Scholar](https://scholar.google.com/scholar?cluster=12232147793008983229&hl=en&as_sdt=0,5)\n",
        "\n"
      ]
    },
    {
      "cell_type": "markdown",
      "metadata": {
        "id": "Ttpkn1UTFZO7"
      },
      "source": [
        "### Create dataset"
      ]
    },
    {
      "cell_type": "markdown",
      "metadata": {
        "id": "Y6mo-lBqHkny"
      },
      "source": [
        "Adapted from [Covidx dataset creation](https://github.com/lindawangg/COVID-Net/blob/master/create_COVIDx.ipynb)"
      ]
    },
    {
      "cell_type": "code",
      "metadata": {
        "id": "2zipjofuTQux"
      },
      "source": [
        "!mkdir data && mkdir data/images"
      ],
      "execution_count": null,
      "outputs": []
    },
    {
      "cell_type": "code",
      "metadata": {
        "id": "GNlZVfHBIuWf"
      },
      "source": [
        "savepath = 'data'\n",
        "\n",
        "# path to covid-19 dataset from https://github.com/ieee8023/covid-chestxray-dataset\n",
        "cohen_imgpath = 'covid-chestxray-dataset/images' \n",
        "cohen_csvpath = 'covid-chestxray-dataset/metadata.csv'\n",
        "\n",
        "# path to covid-19 dataset from https://github.com/agchung/Figure1-COVID-chestxray-dataset\n",
        "fig1_imgpath = 'Figure1-COVID-chestxray-dataset/images'\n",
        "fig1_csvpath = 'Figure1-COVID-chestxray-dataset/metadata.csv'\n",
        "\n",
        "# path to covid-19 dataset from https://github.com/agchung/Actualmed-COVID-chestxray-dataset\n",
        "actmed_imgpath = 'Actualmed-COVID-chestxray-dataset/images'\n",
        "actmed_csvpath = 'Actualmed-COVID-chestxray-dataset/metadata.csv'\n",
        "\n",
        "# path to covid-19 dataset from https://www.kaggle.com/tawsifurrahman/covid19-radiography-database\n",
        "sirm_imgpath = 'COVID-19_Radiography_Dataset/COVID'\n",
        "sirm_csvpath = 'COVID-19_Radiography_Dataset/COVID.metadata.xlsx'\n",
        "\n",
        "# path to https://www.kaggle.com/c/rsna-pneumonia-detection-challenge\n",
        "rsna_datapath = 'rsna-pneumonia-detection-challenge'\n",
        "# get all the normal from here\n",
        "rsna_csvname = 'stage_2_detailed_class_info.csv' \n",
        "# get all the 1s from here since 1 indicate pneumonia\n",
        "# found that images that aren't pneunmonia and also not normal are classified as 0s\n",
        "rsna_csvname2 = 'stage_2_train_labels.csv' \n",
        "rsna_imgpath = 'stage_2_train_images'\n",
        "\n",
        "# parameters for COVIDx dataset\n",
        "metadata = []\n",
        "class_count = {'normal': 0, 'pneumonia': 0, 'COVID-19': 0}\n",
        "\n",
        "mapping = dict()\n",
        "mapping['COVID-19'] = 'COVID-19'\n",
        "mapping['SARS'] = 'pneumonia'\n",
        "mapping['MERS'] = 'pneumonia'\n",
        "mapping['Streptococcus'] = 'pneumonia'\n",
        "mapping['Klebsiella'] = 'pneumonia'\n",
        "mapping['Chlamydophila'] = 'pneumonia'\n",
        "mapping['Legionella'] = 'pneumonia'\n",
        "mapping['E.Coli'] = 'pneumonia'\n",
        "mapping['Normal'] = 'normal'\n",
        "mapping['Lung Opacity'] = 'pneumonia'\n",
        "mapping['1'] = 'pneumonia'\n",
        "\n",
        "# to avoid duplicates\n",
        "patient_imgpath = {}"
      ],
      "execution_count": null,
      "outputs": []
    },
    {
      "cell_type": "code",
      "metadata": {
        "id": "4788IdJZT2oR"
      },
      "source": [
        "# adapted from https://github.com/mlmed/torchxrayvision/blob/master/torchxrayvision/datasets.py#L814\n",
        "cohen_csv = pd.read_csv(cohen_csvpath, nrows=None)\n",
        "#idx_pa = csv[\"view\"] == \"PA\"  # Keep only the PA view\n",
        "views = [\"PA\", \"AP\", \"AP Supine\", \"AP semi erect\", \"AP erect\"]\n",
        "cohen_idx_keep = cohen_csv.view.isin(views)\n",
        "cohen_csv = cohen_csv[cohen_idx_keep]\n",
        "\n",
        "fig1_csv = pd.read_csv(fig1_csvpath, encoding='ISO-8859-1', nrows=None)\n",
        "actmed_csv = pd.read_csv(actmed_csvpath, nrows=None)\n",
        "\n",
        "sirm_csv = pd.read_excel(sirm_csvpath)"
      ],
      "execution_count": null,
      "outputs": []
    },
    {
      "cell_type": "code",
      "metadata": {
        "id": "FtlJldZ5UBUA",
        "colab": {
          "base_uri": "https://localhost:8080/"
        },
        "outputId": "f8d67984-90a5-448f-9798-5fa954af26c2"
      },
      "source": [
        "# get non-COVID19 viral, bacteria, and COVID-19 infections from covid-chestxray-dataset, figure1 and actualmed\n",
        "# stored as patient id, image filename and label\n",
        "filename_label = {'normal': [], 'pneumonia': [], 'COVID-19': []}\n",
        "count = {'normal': 0, 'pneumonia': 0, 'COVID-19': 0}\n",
        "covid_ds = {'cohen': [], 'fig1': [], 'actmed': [], 'sirm': []}\n",
        "\n",
        "for index, row in cohen_csv.iterrows():\n",
        "    f = row['finding'].split('/')[-1] # take final finding in hierarchy, for the case of COVID-19, ARDS\n",
        "    if f in mapping: # \n",
        "        count[mapping[f]] += 1\n",
        "        entry = [str(row['patientid']), row['filename'], mapping[f], 'cohen']\n",
        "        filename_label[mapping[f]].append(entry)\n",
        "        if mapping[f] == 'COVID-19':\n",
        "            covid_ds['cohen'].append(str(row['patientid']))\n",
        "        \n",
        "for index, row in fig1_csv.iterrows():\n",
        "    if not str(row['finding']) == 'nan':\n",
        "        f = row['finding'].split(',')[0] # take the first finding\n",
        "        if f in mapping: # \n",
        "            count[mapping[f]] += 1\n",
        "            if os.path.exists(os.path.join(fig1_imgpath, row['patientid'] + '.jpg')):\n",
        "                entry = [row['patientid'], row['patientid'] + '.jpg', mapping[f], 'fig1']\n",
        "            elif os.path.exists(os.path.join(fig1_imgpath, row['patientid'] + '.png')):\n",
        "                entry = [row['patientid'], row['patientid'] + '.png', mapping[f], 'fig1']\n",
        "            filename_label[mapping[f]].append(entry)\n",
        "            if mapping[f] == 'COVID-19':\n",
        "                covid_ds['fig1'].append(row['patientid'])\n",
        "\n",
        "for index, row in actmed_csv.iterrows():\n",
        "    if not str(row['finding']) == 'nan':\n",
        "        f = row['finding'].split(',')[0]\n",
        "        if f in mapping:\n",
        "            count[mapping[f]] += 1\n",
        "            entry = [row['patientid'], row['imagename'], mapping[f], 'actmed']\n",
        "            filename_label[mapping[f]].append(entry)\n",
        "            if mapping[f] == 'COVID-19':\n",
        "                covid_ds['actmed'].append(row['patientid'])\n",
        "    \n",
        "sirm = set(sirm_csv['URL'])\n",
        "cohen = set(cohen_csv['url'])\n",
        "discard = ['100', '101', '102', '103', '104', '105', \n",
        "           '110', '111', '112', '113', '122', '123', \n",
        "           '124', '125', '126', '217']\n",
        "\n",
        "for idx, row in sirm_csv.iterrows():\n",
        "    patientid = row['FILE NAME']\n",
        "    if row['URL'] not in cohen and patientid[patientid.find('(')+1:patientid.find(')')] not in discard:\n",
        "        count[mapping['COVID-19']] += 1\n",
        "        imagename = patientid + '.' + row['FORMAT'].lower()\n",
        "        if not os.path.exists(os.path.join(sirm_imgpath, imagename)):\n",
        "            imagename = patientid.split('(')[0] + ' ('+ patientid.split('(')[1] + '.' + row['FORMAT'].lower()\n",
        "        entry = [patientid, imagename, mapping['COVID-19'], 'sirm']\n",
        "        filename_label[mapping['COVID-19']].append(entry)\n",
        "        covid_ds['sirm'].append(patientid)\n",
        "    \n",
        "print('Data distribution from covid datasets:')\n",
        "print(count)"
      ],
      "execution_count": null,
      "outputs": [
        {
          "output_type": "stream",
          "text": [
            "Data distribution from covid datasets:\n",
            "{'normal': 0, 'pneumonia': 57, 'COVID-19': 617}\n"
          ],
          "name": "stdout"
        }
      ]
    },
    {
      "cell_type": "code",
      "metadata": {
        "id": "ILxNab92UCC8",
        "colab": {
          "base_uri": "https://localhost:8080/"
        },
        "outputId": "5997bdf1-a0df-4975-9cbf-c9777658495c"
      },
      "source": [
        "# add covid-chestxray-dataset, figure1 and actualmed into dataset\n",
        "ds_imgpath = {'cohen': cohen_imgpath, 'fig1': fig1_imgpath, 'actmed': actmed_imgpath, 'sirm': sirm_imgpath}\n",
        "\n",
        "for key in filename_label.keys():\n",
        "    arr = np.array(filename_label[key])\n",
        "    # go through all the patients\n",
        "    for patient in arr:\n",
        "        #if patient[0] not in patient_imgpath:\n",
        "        #    patient_imgpath[patient[0]] = [patient[1]]\n",
        "        #else:\n",
        "        #    if patient[1] not in patient_imgpath[patient[0]]:\n",
        "        #        patient_imgpath[patient[0]].append(patient[1])\n",
        "        #    else:\n",
        "        #        continue  # skip since image has already been written\n",
        "        if patient[3] == 'sirm':\n",
        "            image = cv2.imread(os.path.join(ds_imgpath[patient[3]], patient[1]))\n",
        "            gray = cv2.cvtColor(image, cv2.COLOR_BGR2GRAY)\n",
        "            patient[1] = patient[1].replace(' ', '')\n",
        "            cv2.imwrite(os.path.join(savepath, 'images', patient[1]), gray)\n",
        "        else:\n",
        "            copyfile(os.path.join(ds_imgpath[patient[3]], patient[1]), os.path.join(savepath, 'images', patient[1]))\n",
        "        metadata.append(patient)\n",
        "        class_count[patient[2]] += 1\n",
        "\n",
        "print('class count: ', class_count)"
      ],
      "execution_count": null,
      "outputs": [
        {
          "output_type": "stream",
          "text": [
            "class count:  {'normal': 0, 'pneumonia': 57, 'COVID-19': 617}\n"
          ],
          "name": "stdout"
        }
      ]
    },
    {
      "cell_type": "code",
      "metadata": {
        "id": "aI29zFfUUD60",
        "colab": {
          "base_uri": "https://localhost:8080/"
        },
        "outputId": "67461690-ba60-4f40-ca70-5ddb7ff67124"
      },
      "source": [
        "# add normal and rest of pneumonia cases from https://www.kaggle.com/c/rsna-pneumonia-detection-challenge\n",
        "csv_normal = pd.read_csv(os.path.join(rsna_datapath, rsna_csvname), nrows=None)\n",
        "csv_pneu = pd.read_csv(os.path.join(rsna_datapath, rsna_csvname2), nrows=None)\n",
        "patients = {'normal': [], 'pneumonia': []}\n",
        "\n",
        "for index, row in csv_normal.iterrows():\n",
        "    if row['class'] == 'Normal':\n",
        "        patients['normal'].append(row['patientId'])\n",
        "\n",
        "for index, row in csv_pneu.iterrows():\n",
        "    if int(row['Target']) == 1:\n",
        "        patients['pneumonia'].append(row['patientId'])\n",
        "skipcount = 0\n",
        "for key in patients.keys():\n",
        "    arr = np.array(patients[key])\n",
        "    if arr.size == 0:\n",
        "        continue\n",
        "    for patient in arr:\n",
        "        if patient not in patient_imgpath:\n",
        "            patient_imgpath[patient] = [patient]\n",
        "        else:\n",
        "            skipcount += 1\n",
        "            continue  # skip since image has already been written\n",
        "        ds = dicom.dcmread(os.path.join(rsna_datapath, rsna_imgpath, patient + '.dcm'))\n",
        "        pixel_array_numpy = ds.pixel_array\n",
        "        imgname = patient + '.png'\n",
        "        cv2.imwrite(os.path.join(savepath, 'images', imgname), pixel_array_numpy)\n",
        "        metadata.append([patient, imgname, key, 'rsna'])\n",
        "        class_count[key] += 1\n",
        "print(skipcount)\n",
        "print('class count: ', class_count)"
      ],
      "execution_count": null,
      "outputs": [
        {
          "output_type": "stream",
          "text": [
            "3543\n",
            "class count:  {'normal': 8851, 'pneumonia': 6069, 'COVID-19': 617}\n"
          ],
          "name": "stdout"
        }
      ]
    },
    {
      "cell_type": "code",
      "metadata": {
        "id": "haPEqFP6UGK7",
        "colab": {
          "base_uri": "https://localhost:8080/"
        },
        "outputId": "c1ef6937-fec2-48e0-ee72-97175ffc999f"
      },
      "source": [
        "# final stats\n",
        "print('Final stats')\n",
        "print('Class count: ', class_count)\n",
        "print('Total images: ', len(metadata))"
      ],
      "execution_count": null,
      "outputs": [
        {
          "output_type": "stream",
          "text": [
            "Final stats\n",
            "Class count:  {'normal': 8851, 'pneumonia': 6069, 'COVID-19': 617}\n",
            "Total images:  15537\n"
          ],
          "name": "stdout"
        }
      ]
    },
    {
      "cell_type": "code",
      "metadata": {
        "id": "4hnCsh08UHk-"
      },
      "source": [
        "# export to metadata csv\n",
        "# format as patientid, filename, label, separated by a space\n",
        "metadata_file = open(\"data/metadata.csv\",'w') \n",
        "metadata_file.write('patientid filename label source\\n')\n",
        "for sample in metadata:\n",
        "    if len(sample) == 4:\n",
        "        info = str(sample[0]) + ' ' + sample[1] + ' ' + sample[2] + ' ' + sample[3] + '\\n'\n",
        "    else:\n",
        "        info = str(sample[0]) + ' ' + sample[1] + ' ' + sample[2] + '\\n'\n",
        "    metadata_file.write(info)\n",
        "\n",
        "metadata_file.close()\n",
        "\n",
        "# TODO get split from covid-net repo\n",
        "# num_diff_patients = len(np.unique(arr))\n",
        "# num_test = max(1, round(split*num_diff_patients))\n",
        "#test_patients = np.load('COVID-Net/rsna_test_patients_{}.npy'.format(key)) # random.sample(list(arr), num_test), download the .npy files from the repo.\n",
        "# np.save('rsna_test_patients_{}.npy'.format(key), np.array(test_patients))"
      ],
      "execution_count": null,
      "outputs": []
    },
    {
      "cell_type": "markdown",
      "metadata": {
        "id": "8swfhX4IFFyr"
      },
      "source": [
        "Delete obsolete files"
      ]
    },
    {
      "cell_type": "code",
      "metadata": {
        "id": "HP4V9gtXFE-d",
        "colab": {
          "base_uri": "https://localhost:8080/"
        },
        "outputId": "edbeac06-9def-40d8-f174-9bec6482aa6a"
      },
      "source": [
        "!find . -maxdepth 1 ! -name \"data\" !  -exec rm -r {} \\;"
      ],
      "execution_count": null,
      "outputs": [
        {
          "output_type": "stream",
          "text": [
            "rm: refusing to remove '.' or '..' directory: skipping '.'\n"
          ],
          "name": "stdout"
        }
      ]
    },
    {
      "cell_type": "markdown",
      "metadata": {
        "id": "W4-BvfKk31nU"
      },
      "source": [
        "### Load dataset"
      ]
    },
    {
      "cell_type": "markdown",
      "metadata": {
        "id": "hCWbkRddR5BX"
      },
      "source": [
        "###### Retrieve filenames (paths) and labels"
      ]
    },
    {
      "cell_type": "code",
      "metadata": {
        "id": "iTBlEfCz6tu-"
      },
      "source": [
        "def get_data(path, label_encoding):\n",
        "    imgpath = datapath + '/images'\n",
        "    csv = pd.read_csv(datapath + '/metadata.csv', sep=' ')\n",
        "    filenames = []\n",
        "    y_labels = []\n",
        "\n",
        "    # COVID-19\n",
        "    covid = csv[csv['label'] == 'COVID-19']\n",
        "    filenames.extend([imgpath + '/' + s for s in list(covid['filename'])])\n",
        "    y_labels.extend([label_encoding.index(label) for label in list(covid['label'])])\n",
        "    # pneumonia\n",
        "    pneumonia = csv[csv['label'] == 'pneumonia'].sample(int(IMBALANCE_RATIO*len(covid)))\n",
        "    filenames.extend([imgpath + '/' + s for s in list(pneumonia['filename'])])\n",
        "    y_labels.extend([label_encoding.index(label) for label in list(pneumonia['label'])])\n",
        "    # normal\n",
        "    normal = csv[csv['label'] == 'normal'].sample(int(IMBALANCE_RATIO*len(covid)))\n",
        "    filenames.extend([imgpath + '/' + s for s in list(normal['filename'])])\n",
        "    y_labels.extend([label_encoding.index(label) for label in list(normal['label'])])\n",
        "\n",
        "    return np.array(filenames), np.array(y_labels)"
      ],
      "execution_count": null,
      "outputs": []
    },
    {
      "cell_type": "code",
      "metadata": {
        "id": "lZnnoc95cn42"
      },
      "source": [
        "datapath = 'data'\n",
        "label_encoding = ['normal', 'pneumonia', 'COVID-19'] # normal = 0, pneumonia = 1, COVID-19 = 2\n",
        "\n",
        "files, labels = get_data(datapath, label_encoding)"
      ],
      "execution_count": null,
      "outputs": []
    },
    {
      "cell_type": "markdown",
      "metadata": {
        "id": "2kfTxOf2ReyH"
      },
      "source": [
        "###### Create train-test split"
      ]
    },
    {
      "cell_type": "code",
      "metadata": {
        "id": "-UcerZZyReUl"
      },
      "source": [
        "# create train-val-test split\n",
        "x_train, x_val, y_train, y_val = train_test_split(files, labels, test_size=2*SPLIT, random_state=random_state)\n",
        "x_val, x_test, y_val, y_test = train_test_split(x_val, y_val, test_size=0.5, random_state=random_state)"
      ],
      "execution_count": null,
      "outputs": []
    },
    {
      "cell_type": "code",
      "metadata": {
        "id": "iRMv7jfE5Dkp"
      },
      "source": [
        "def get_distribution(y):\n",
        "    return {'normal': np.count_nonzero(y == 0),\n",
        "            'pneumonia': np.count_nonzero(y == 1),\n",
        "            'COVID-19': np.count_nonzero(y == 2)}"
      ],
      "execution_count": null,
      "outputs": []
    },
    {
      "cell_type": "code",
      "metadata": {
        "colab": {
          "base_uri": "https://localhost:8080/"
        },
        "id": "490LlNj21ZYe",
        "outputId": "cda4d2fd-d00b-44e2-907f-b6c6b785e4d1"
      },
      "source": [
        "TRAIN_DISTRIBUTION = get_distribution(y_train)\n",
        "VAL_DISTRIBUTION = get_distribution(y_val)\n",
        "TEST_DISTRIBUTION = get_distribution(y_test)\n",
        "print('train set: ', TRAIN_DISTRIBUTION)\n",
        "print('val set:   ', VAL_DISTRIBUTION)\n",
        "print('test set:  ', TEST_DISTRIBUTION)"
      ],
      "execution_count": null,
      "outputs": [
        {
          "output_type": "stream",
          "text": [
            "train set:  {'normal': 655, 'pneumonia': 644, 'COVID-19': 427}\n",
            "val set:    {'normal': 137, 'pneumonia': 133, 'COVID-19': 100}\n",
            "test set:   {'normal': 133, 'pneumonia': 148, 'COVID-19': 90}\n"
          ],
          "name": "stdout"
        }
      ]
    },
    {
      "cell_type": "markdown",
      "metadata": {
        "id": "yKLzGVJr1KYt"
      },
      "source": [
        "###### Create tensors"
      ]
    },
    {
      "cell_type": "code",
      "metadata": {
        "id": "v2ACeBXm0jDe"
      },
      "source": [
        "# one hot encoding for multi class classification\n",
        "y_train_one_hot = to_categorical(y_train, 3)\n",
        "y_val_one_hot = to_categorical(y_val, 3)\n",
        "y_test_one_hot = to_categorical(y_test, 3)\n",
        "# build tensorflow dataset\n",
        "train_files = tf.data.Dataset.from_tensor_slices((x_train, y_train_one_hot))\n",
        "val_files = tf.data.Dataset.from_tensor_slices((x_val, y_val_one_hot))\n",
        "test_files = tf.data.Dataset.from_tensor_slices((x_test, y_test_one_hot))"
      ],
      "execution_count": null,
      "outputs": []
    },
    {
      "cell_type": "markdown",
      "metadata": {
        "id": "5uY3XUMZndVW"
      },
      "source": [
        "###### Image retrieval"
      ]
    },
    {
      "cell_type": "code",
      "metadata": {
        "id": "9WOaiSgpNoHl"
      },
      "source": [
        "def get_img(x, y):\n",
        "    file_path = x\n",
        "    label = y\n",
        "    # load the raw data from the file as a string\n",
        "    img = tf.io.read_file(file_path)\n",
        "    # convert the compressed string to a 3D uint8 tensor\n",
        "    img = tf.image.decode_image(img, channels=3, expand_animations = False)\n",
        "    # make sure img has desired number of channels\n",
        "    # rgb = 3, grayscale = 1\n",
        "    img = tf.cond(tf.shape(img)[2] == 1, lambda: tf.image.grayscale_to_rgb(img), lambda: img)\n",
        "    return img, label"
      ],
      "execution_count": null,
      "outputs": []
    },
    {
      "cell_type": "code",
      "metadata": {
        "id": "vm-IQcmFRkUH"
      },
      "source": [
        "train_ds = train_files.map(get_img, num_parallel_calls=AUTOTUNE)\n",
        "val_ds = val_files.map(get_img, num_parallel_calls=AUTOTUNE)\n",
        "test_ds = test_files.map(get_img, num_parallel_calls=AUTOTUNE)"
      ],
      "execution_count": null,
      "outputs": []
    },
    {
      "cell_type": "code",
      "metadata": {
        "id": "p5K556WbSL2q",
        "colab": {
          "base_uri": "https://localhost:8080/"
        },
        "outputId": "203a8f6e-148a-4558-c30a-b49df254b586"
      },
      "source": [
        "TRAIN_IMG_COUNT = tf.data.experimental.cardinality(train_ds).numpy()\n",
        "VAL_IMG_COUNT = tf.data.experimental.cardinality(val_ds).numpy()\n",
        "TEST_IMG_COUNT = tf.data.experimental.cardinality(test_ds).numpy()\n",
        "print(\n",
        "    'Train: ' + str(TRAIN_IMG_COUNT) + ',',\n",
        "    'Val: ' + str(VAL_IMG_COUNT) + ',',\n",
        "    'Test: ' + str(TEST_IMG_COUNT),\n",
        ")"
      ],
      "execution_count": null,
      "outputs": [
        {
          "output_type": "stream",
          "text": [
            "Train: 1726, Val: 370, Test: 371\n"
          ],
          "name": "stdout"
        }
      ]
    },
    {
      "cell_type": "markdown",
      "metadata": {
        "id": "VXTNKqd1SWq1"
      },
      "source": [
        "### Prepare for training"
      ]
    },
    {
      "cell_type": "markdown",
      "metadata": {
        "id": "9maiOwIFusj3"
      },
      "source": [
        "###### Define preprocessing"
      ]
    },
    {
      "cell_type": "code",
      "metadata": {
        "id": "ThfMQttGuFNI"
      },
      "source": [
        "# ideas\n",
        "#   1. crop top, sometimes there is text in the top part of the image\n",
        "#   2. central crop, crop the central region of the image with an area\n",
        "#      containing 87.5% of the original image\n",
        "resize_and_rescale = tf.keras.Sequential([\n",
        "  layers.experimental.preprocessing.Resizing(IMG_SIZE[0], IMG_SIZE[1]),\n",
        "  layers.experimental.preprocessing.Rescaling(1./255)\n",
        "])"
      ],
      "execution_count": null,
      "outputs": []
    },
    {
      "cell_type": "markdown",
      "metadata": {
        "id": "_ZRRHdCQuy0h"
      },
      "source": [
        "###### Define data augmentation"
      ]
    },
    {
      "cell_type": "code",
      "metadata": {
        "id": "feTT4lX7nOu1"
      },
      "source": [
        "# implemented as keras layers below but kept for quick overview\n",
        "datagen = ImageDataGenerator(\n",
        "        featurewise_center=False,  # set input mean to 0 over the dataset\n",
        "        samplewise_center=False,  # set each sample mean to 0\n",
        "        featurewise_std_normalization=False,  # divide inputs by std of the dataset\n",
        "        samplewise_std_normalization=False,  # divide each input by its std\n",
        "        zca_whitening=False,  # apply ZCA whitening\n",
        "        rotation_range=10,  # randomly rotate images in the range (degrees, 0 to 180)\n",
        "        zoom_range=(0.85, 1.15), # randomly zoom image \n",
        "        brightness_range=(0.9, 1.1), # randomly shift brightness\n",
        "        width_shift_range=0.1,  # randomly shift images horizontally (fraction of total width)\n",
        "        height_shift_range=0.1,  # randomly shift images vertically (fraction of total height)\n",
        "        horizontal_flip = True,  # randomly flip images\n",
        "        vertical_flip=False,    # randomly flip images\n",
        "        fill_mode='constant',   # constant filling of points outside boundaries of input\n",
        "        cval=0.,)   # fill with zeros, see fill_mode"
      ],
      "execution_count": null,
      "outputs": []
    },
    {
      "cell_type": "code",
      "metadata": {
        "id": "J9EcTaGf4Lfd"
      },
      "source": [
        "class RandomBrightness(layers.Layer):\n",
        "  def __init__(self, factor=0.1, **kwargs):\n",
        "    super().__init__(**kwargs)\n",
        "    self.factor = factor\n",
        "\n",
        "  def call(self, x):\n",
        "    return tf.image.random_brightness(x, max_delta=self.factor)"
      ],
      "execution_count": null,
      "outputs": []
    },
    {
      "cell_type": "code",
      "metadata": {
        "id": "xZ5a1ElPuo9C"
      },
      "source": [
        "data_augmentation = tf.keras.Sequential([\n",
        "  layers.experimental.preprocessing.RandomFlip(\"horizontal\"),\n",
        "  layers.experimental.preprocessing.RandomRotation(0.1, fill_mode='constant'),\n",
        "  layers.experimental.preprocessing.RandomTranslation(0.1, 0.1, fill_mode='constant'),\n",
        "  layers.experimental.preprocessing.RandomZoom(0.15, fill_mode='constant'),\n",
        "  RandomBrightness(0.1),\n",
        "])"
      ],
      "execution_count": null,
      "outputs": []
    },
    {
      "cell_type": "markdown",
      "metadata": {
        "id": "GsOnrZz2u-wY"
      },
      "source": [
        "###### Prepare batches"
      ]
    },
    {
      "cell_type": "code",
      "metadata": {
        "id": "g0sZZfKJSkaC"
      },
      "source": [
        "def prepare_training(ds, shuffle=False, repeat=False, augment=False, cache=True, shuffle_buffer_size=1000):\n",
        "    # Resize and rescale all datasets\n",
        "    ds = ds.map(lambda x, y: (resize_and_rescale(x), y),\n",
        "                num_parallel_calls=AUTOTUNE)\n",
        "\n",
        "    # use `.cache(filename)` to cache preprocessing work for datasets that don't\n",
        "    # fit in memory.\n",
        "    if cache:\n",
        "        if isinstance(cache, str):\n",
        "            ds = ds.cache(cache)\n",
        "        else:\n",
        "            ds = ds.cache()\n",
        "\n",
        "    if shuffle:\n",
        "        ds = ds.shuffle(buffer_size=shuffle_buffer_size)\n",
        "\n",
        "    # repeat training set forever\n",
        "    if repeat:\n",
        "        ds = ds.repeat()\n",
        "    else:\n",
        "        ds = ds.repeat(1)\n",
        "\n",
        "    # batch all datasets\n",
        "    ds = ds.batch(BATCH_SIZE)\n",
        "\n",
        "    # use data augmentation only on the training set\n",
        "    if augment:\n",
        "        ds = ds.map(lambda x, y: (data_augmentation(x, training=True), y), \n",
        "                    num_parallel_calls=AUTOTUNE)\n",
        "\n",
        "    # fetches batches in the background while training the model\n",
        "    ds = ds.prefetch(buffer_size=AUTOTUNE)\n",
        "\n",
        "    return ds"
      ],
      "execution_count": null,
      "outputs": []
    },
    {
      "cell_type": "code",
      "metadata": {
        "id": "r8dlSaWrXL8k"
      },
      "source": [
        "train_batched = prepare_training(train_ds, shuffle=True, repeat=True, augment=True)\n",
        "val_batched = prepare_training(val_ds)\n",
        "test_batched = prepare_training(test_ds)"
      ],
      "execution_count": null,
      "outputs": []
    },
    {
      "cell_type": "markdown",
      "metadata": {
        "id": "mxytOEw8X0P1"
      },
      "source": [
        "### Visualization"
      ]
    },
    {
      "cell_type": "markdown",
      "metadata": {
        "id": "8mGcKX6k1PoZ"
      },
      "source": [
        "###### Distribution of labels in the sets"
      ]
    },
    {
      "cell_type": "code",
      "metadata": {
        "id": "DnNgrZP_7iwR"
      },
      "source": [
        "def plot_distributions(distributions):\n",
        "    sns.set_style('darkgrid')\n",
        "    n_plots = len(distributions)\n",
        "    fig, ax = plt.subplots(1,n_plots, figsize=(15,5))\n",
        "    plt.subplots_adjust(wspace=0.2, hspace=0.2)\n",
        "    for i, x in enumerate(distributions.items()):\n",
        "        name = x[0]\n",
        "        dis = x[1]\n",
        "        keys = list(dis.keys())\n",
        "        values = list(dis.values())\n",
        "        sns.barplot(x=keys, y=values, ax=ax[i]).set_title(name)\n",
        "    fig.show()"
      ],
      "execution_count": null,
      "outputs": []
    },
    {
      "cell_type": "code",
      "metadata": {
        "colab": {
          "base_uri": "https://localhost:8080/",
          "height": 336
        },
        "id": "6scnVGRvKSgI",
        "outputId": "fa82d8e7-d5b4-4530-ac49-4535a4968275"
      },
      "source": [
        "plot_distributions({'train': TRAIN_DISTRIBUTION, 'val': VAL_DISTRIBUTION, 'test': TEST_DISTRIBUTION})"
      ],
      "execution_count": null,
      "outputs": [
        {
          "output_type": "display_data",
          "data": {
            "image/png": "[encoded data removed]",
            "text/plain": [
              "<Figure size 1080x360 with 3 Axes>"
            ]
          },
          "metadata": {
            "tags": []
          }
        }
      ]
    },
    {
      "cell_type": "markdown",
      "metadata": {
        "id": "K9u-ej3xUxss"
      },
      "source": [
        "###### Images from a training batch"
      ]
    },
    {
      "cell_type": "code",
      "metadata": {
        "id": "I813txxcXnw3"
      },
      "source": [
        "def show_batch(image_batch, label_batch):\n",
        "    plt.figure(figsize=(10,10))\n",
        "    for n in range(BATCH_SIZE):\n",
        "        ax = plt.subplot(np.log(BATCH_SIZE) / np.log(2), np.log(BATCH_SIZE) / np.log(2), n+1)\n",
        "        plt.imshow(image_batch[n])\n",
        "        if label_batch[n][0] == 1:\n",
        "            plt.title(\"NORMAL\")\n",
        "        elif label_batch[n][1] == 1:\n",
        "            plt.title(\"PNEUMONIA\")\n",
        "        elif label_batch[n][2] == 1:\n",
        "            plt.title(\"COVID-19\")\n",
        "        plt.axis(\"off\")"
      ],
      "execution_count": null,
      "outputs": []
    },
    {
      "cell_type": "code",
      "metadata": {
        "id": "DEUTa0MkYbkd"
      },
      "source": [
        "image_batch, label_batch = next(iter(train_batched))"
      ],
      "execution_count": null,
      "outputs": []
    },
    {
      "cell_type": "code",
      "metadata": {
        "id": "Wqn6CTqeYfxP",
        "colab": {
          "base_uri": "https://localhost:8080/",
          "height": 739
        },
        "outputId": "36a19ce6-f5e8-4762-a82d-e2518e8662a1"
      },
      "source": [
        "show_batch(image_batch.numpy(), label_batch.numpy())"
      ],
      "execution_count": null,
      "outputs": [
        {
          "output_type": "stream",
          "text": [
            "Clipping input data to the valid range for imshow with RGB data ([0..1] for floats or [0..255] for integers).\n",
            "Clipping input data to the valid range for imshow with RGB data ([0..1] for floats or [0..255] for integers).\n",
            "Clipping input data to the valid range for imshow with RGB data ([0..1] for floats or [0..255] for integers).\n",
            "Clipping input data to the valid range for imshow with RGB data ([0..1] for floats or [0..255] for integers).\n",
            "Clipping input data to the valid range for imshow with RGB data ([0..1] for floats or [0..255] for integers).\n",
            "Clipping input data to the valid range for imshow with RGB data ([0..1] for floats or [0..255] for integers).\n",
            "Clipping input data to the valid range for imshow with RGB data ([0..1] for floats or [0..255] for integers).\n",
            "Clipping input data to the valid range for imshow with RGB data ([0..1] for floats or [0..255] for integers).\n"
          ],
          "name": "stderr"
        },
        {
          "output_type": "display_data",
          "data": {
            "image/png": "[encoded data removed]",
            "text/plain": [
              "<Figure size 720x720 with 8 Axes>"
            ]
          },
          "metadata": {
            "tags": []
          }
        }
      ]
    },
    {
      "cell_type": "markdown",
      "metadata": {
        "id": "krill9Wz9Gnj"
      },
      "source": [
        "## Tuning"
      ]
    },
    {
      "cell_type": "markdown",
      "metadata": {
        "id": "cI0KUQpGLPEd"
      },
      "source": [
        "### Data Imbalance Correction"
      ]
    },
    {
      "cell_type": "markdown",
      "metadata": {
        "id": "FzCdoigwBELZ"
      },
      "source": [
        "###### Define class weights"
      ]
    },
    {
      "cell_type": "code",
      "metadata": {
        "id": "pMdpJ4HnPuyq",
        "colab": {
          "base_uri": "https://localhost:8080/"
        },
        "outputId": "bd64c9c6-ba64-4b54-cbcc-44d605861e67"
      },
      "source": [
        "class_weights = class_weight.compute_class_weight('balanced',\n",
        "                                                 np.unique(y_train),\n",
        "                                                 y_train)\n",
        "\n",
        "class_weight_dict = dict(enumerate(class_weights))\n",
        "\n",
        "weight_iter = iter(class_weight_dict.values())\n",
        "print('Weight for normal: \\t{:.2f}'.format(next(weight_iter)))\n",
        "print('Weight for pneumonia: \\t{:.2f}'.format(next(weight_iter)))\n",
        "print('Weight for COVID-19: \\t{:.2f}'.format(next(weight_iter)))"
      ],
      "execution_count": null,
      "outputs": [
        {
          "output_type": "stream",
          "text": [
            "Weight for normal: \t0.88\n",
            "Weight for pneumonia: \t0.89\n",
            "Weight for COVID-19: \t1.35\n"
          ],
          "name": "stdout"
        }
      ]
    },
    {
      "cell_type": "markdown",
      "metadata": {
        "id": "XCdKpgaf9kpt"
      },
      "source": [
        "### Learning rate decay"
      ]
    },
    {
      "cell_type": "code",
      "metadata": {
        "id": "2VsbJE9M9LWm"
      },
      "source": [
        "learning_rate_decay = ReduceLROnPlateau(monitor='val_loss', patience=2, factor=0.1, min_lr=1e-6)"
      ],
      "execution_count": null,
      "outputs": []
    },
    {
      "cell_type": "markdown",
      "metadata": {
        "id": "IO-q1jyNK4nD"
      },
      "source": [
        "### Early stopping\n"
      ]
    },
    {
      "cell_type": "code",
      "metadata": {
        "id": "uooS4NglK8y7"
      },
      "source": [
        "# TODO checkpoint = ModelCheckpoint(\"x-covid.h5\", monitor=monitor='val_loss', save_best_only=True)\n",
        "early_stopping = EarlyStopping(monitor='val_loss', patience=3, restore_best_weights=True)"
      ],
      "execution_count": null,
      "outputs": []
    },
    {
      "cell_type": "markdown",
      "metadata": {
        "id": "-IDnT4aPDieC"
      },
      "source": [
        "## ResNet50V2\n",
        "V1  \n",
        "Kaiming He, et al.\n",
        "**Deep residual learning for image recognition.**\n",
        "(2016)\n",
        "[Google Scholar](https://scholar.google.com/scholar?cluster=9281510746729853742&hl=en&as_sdt=0,5)\n",
        "\n",
        "V2  \n",
        "Kaiming He, et al.\n",
        "**Identity mappings in deep residual networks.** \n",
        "(2016)\n",
        "[Google Scholar](https://scholar.google.com/scholar?cluster=14035416619237709781&hl=en&as_sdt=0,5)"
      ]
    },
    {
      "cell_type": "markdown",
      "metadata": {
        "id": "7L4_TxkXLyfu"
      },
      "source": [
        "### Model definition"
      ]
    },
    {
      "cell_type": "markdown",
      "metadata": {
        "id": "xt92MFM4ByoZ"
      },
      "source": [
        "Transfer learning: initalize with weights pretrained on ImageNet"
      ]
    },
    {
      "cell_type": "code",
      "metadata": {
        "id": "2ipP0Ybvrr7k"
      },
      "source": [
        "def resnet50_builder():\n",
        "    # load pretrained ResNet50V2 (ImageNet) without output\n",
        "    resnet = ResNet50V2(include_top = False,\n",
        "                       weights = 'imagenet',\n",
        "                       input_shape=(IMG_SIZE[0], IMG_SIZE[1], 3),)\n",
        "    \n",
        "    # make resnet layers trainable\n",
        "    resnet.trainable = True\n",
        "    # TODO try freeze first pretrained layers, train later layers\n",
        "    #for layer in resnet.layers[:103]:\n",
        "    #    layer.trainable=False\n",
        "    \n",
        "    model = Sequential([\n",
        "        Input(shape=(IMG_SIZE[0], IMG_SIZE[1], 3)),\n",
        "        # add pretrained resnet layer to model\n",
        "        resnet,\n",
        "        GlobalAveragePooling2D(name='AvgPool'),\n",
        "        # add dropout (inspired by inception-resnet-v2)\n",
        "        Dropout(0.2, name='Dropout'),\n",
        "        # add classification layer for normal/pneumonia/COVID-19\n",
        "        Dense(units=3, activation='softmax', name='Output'),\n",
        "    ], name='ResNet50')\n",
        "    \n",
        "    return model"
      ],
      "execution_count": null,
      "outputs": []
    },
    {
      "cell_type": "code",
      "metadata": {
        "id": "q2u6dVLakymE"
      },
      "source": [
        "# TODO try out finding good split for trainable part\n",
        "#resnet50.layers[0].layers[104]\n",
        "#len([layer for layer in resnet50.layers[0].layers if isinstance(layer, keras.layers.Conv2D)])"
      ],
      "execution_count": null,
      "outputs": []
    },
    {
      "cell_type": "code",
      "metadata": {
        "id": "pLPUP3e4Cp79"
      },
      "source": [
        "resnet50 = resnet50_builder()\n",
        "\n",
        "METRICS = [\n",
        "    'accuracy',\n",
        "    keras.metrics.Precision(name='precision'),\n",
        "    keras.metrics.Recall(name='recall')\n",
        "]\n",
        "\n",
        "resnet50.compile(\n",
        "    # very low learning rate to adapt pretrained weights to new data without\n",
        "    # overfitting because of small dataset\n",
        "    optimizer=Adam(lr=1e-5), # default: 1e-3\n",
        "    loss='categorical_crossentropy',\n",
        "    metrics=METRICS\n",
        ")"
      ],
      "execution_count": null,
      "outputs": []
    },
    {
      "cell_type": "code",
      "metadata": {
        "colab": {
          "base_uri": "https://localhost:8080/"
        },
        "id": "uUSNCQehCKnt",
        "outputId": "d77ef9d1-e91b-4440-e0d4-a57ce72b98f0"
      },
      "source": [
        "resnet50.summary()"
      ],
      "execution_count": null,
      "outputs": [
        {
          "output_type": "stream",
          "text": [
            "Model: \"ResNet50\"\n",
            "_________________________________________________________________\n",
            "Layer (type)                 Output Shape              Param #   \n",
            "=================================================================\n",
            "resnet50v2 (Functional)      (None, 7, 7, 2048)        23564800  \n",
            "_________________________________________________________________\n",
            "AvgPool (GlobalAveragePoolin (None, 2048)              0         \n",
            "_________________________________________________________________\n",
            "Dropout (Dropout)            (None, 2048)              0         \n",
            "_________________________________________________________________\n",
            "Output (Dense)               (None, 3)                 6147      \n",
            "=================================================================\n",
            "Total params: 23,570,947\n",
            "Trainable params: 23,525,507\n",
            "Non-trainable params: 45,440\n",
            "_________________________________________________________________\n"
          ],
          "name": "stdout"
        }
      ]
    },
    {
      "cell_type": "markdown",
      "metadata": {
        "id": "FgNkma6kIB3_"
      },
      "source": [
        "### Training"
      ]
    },
    {
      "cell_type": "code",
      "metadata": {
        "colab": {
          "base_uri": "https://localhost:8080/"
        },
        "id": "F3BezZBuE3ze",
        "outputId": "54e12832-2d73-4537-d625-e44186a4632b"
      },
      "source": [
        "history_resnet = resnet50.fit(\n",
        "    train_batched,\n",
        "    steps_per_epoch=TRAIN_IMG_COUNT // BATCH_SIZE,\n",
        "    epochs=EPOCHS,\n",
        "    validation_data=val_batched,\n",
        "    validation_steps=VAL_IMG_COUNT // BATCH_SIZE,\n",
        "    class_weight=class_weight_dict,\n",
        "    callbacks = [learning_rate_decay, early_stopping],\n",
        ")"
      ],
      "execution_count": null,
      "outputs": [
        {
          "output_type": "stream",
          "text": [
            "Epoch 1/20\n",
            "215/215 [==============================] - 29s 137ms/step - loss: 0.8468 - accuracy: 0.6424 - precision: 0.7386 - recall: 0.4517 - val_loss: 0.7082 - val_accuracy: 0.6929 - val_precision: 0.7516 - val_recall: 0.6413\n",
            "Epoch 2/20\n",
            "215/215 [==============================] - 28s 130ms/step - loss: 0.6083 - accuracy: 0.7674 - precision: 0.8182 - recall: 0.7064 - val_loss: 0.5681 - val_accuracy: 0.7799 - val_precision: 0.8301 - val_recall: 0.6902\n",
            "Epoch 3/20\n",
            "215/215 [==============================] - 28s 132ms/step - loss: 0.5444 - accuracy: 0.7860 - precision: 0.8243 - recall: 0.7500 - val_loss: 0.4840 - val_accuracy: 0.8043 - val_precision: 0.8515 - val_recall: 0.7636\n",
            "Epoch 4/20\n",
            "215/215 [==============================] - 28s 132ms/step - loss: 0.4956 - accuracy: 0.8058 - precision: 0.8267 - recall: 0.7738 - val_loss: 0.4062 - val_accuracy: 0.8533 - val_precision: 0.8746 - val_recall: 0.8152\n",
            "Epoch 5/20\n",
            "215/215 [==============================] - 28s 130ms/step - loss: 0.4838 - accuracy: 0.8244 - precision: 0.8402 - recall: 0.7890 - val_loss: 0.4266 - val_accuracy: 0.8234 - val_precision: 0.8631 - val_recall: 0.7880\n",
            "Epoch 6/20\n",
            "215/215 [==============================] - 28s 131ms/step - loss: 0.4750 - accuracy: 0.8180 - precision: 0.8398 - recall: 0.7895 - val_loss: 0.3749 - val_accuracy: 0.8641 - val_precision: 0.8873 - val_recall: 0.8342\n",
            "Epoch 7/20\n",
            "215/215 [==============================] - 28s 131ms/step - loss: 0.4626 - accuracy: 0.8180 - precision: 0.8388 - recall: 0.7959 - val_loss: 0.3572 - val_accuracy: 0.8668 - val_precision: 0.8807 - val_recall: 0.8424\n",
            "Epoch 8/20\n",
            "215/215 [==============================] - 28s 131ms/step - loss: 0.4015 - accuracy: 0.8529 - precision: 0.8755 - recall: 0.8262 - val_loss: 0.3403 - val_accuracy: 0.8641 - val_precision: 0.8873 - val_recall: 0.8560\n",
            "Epoch 9/20\n",
            "215/215 [==============================] - 28s 132ms/step - loss: 0.3973 - accuracy: 0.8395 - precision: 0.8588 - recall: 0.8169 - val_loss: 0.3323 - val_accuracy: 0.8668 - val_precision: 0.8927 - val_recall: 0.8587\n",
            "Epoch 10/20\n",
            "215/215 [==============================] - 28s 131ms/step - loss: 0.3643 - accuracy: 0.8651 - precision: 0.8826 - recall: 0.8436 - val_loss: 0.3978 - val_accuracy: 0.8451 - val_precision: 0.8563 - val_recall: 0.8261\n",
            "Epoch 11/20\n",
            "215/215 [==============================] - 28s 131ms/step - loss: 0.3737 - accuracy: 0.8570 - precision: 0.8717 - recall: 0.8413 - val_loss: 0.3178 - val_accuracy: 0.8777 - val_precision: 0.8966 - val_recall: 0.8723\n",
            "Epoch 12/20\n",
            "215/215 [==============================] - 28s 131ms/step - loss: 0.3601 - accuracy: 0.8640 - precision: 0.8808 - recall: 0.8459 - val_loss: 0.3205 - val_accuracy: 0.8859 - val_precision: 0.8964 - val_recall: 0.8696\n",
            "Epoch 13/20\n",
            "215/215 [==============================] - 28s 131ms/step - loss: 0.3273 - accuracy: 0.8773 - precision: 0.8900 - recall: 0.8605 - val_loss: 0.3663 - val_accuracy: 0.8424 - val_precision: 0.8596 - val_recall: 0.8315\n",
            "Epoch 14/20\n",
            "215/215 [==============================] - 28s 131ms/step - loss: 0.3052 - accuracy: 0.8913 - precision: 0.8983 - recall: 0.8727 - val_loss: 0.3316 - val_accuracy: 0.8750 - val_precision: 0.8908 - val_recall: 0.8641\n"
          ],
          "name": "stdout"
        }
      ]
    },
    {
      "cell_type": "markdown",
      "metadata": {
        "id": "Di1VyxmxJH5w"
      },
      "source": [
        "### Evaluation"
      ]
    },
    {
      "cell_type": "markdown",
      "metadata": {
        "id": "XbfsxadwJH5w"
      },
      "source": [
        "###### Visualize performance"
      ]
    },
    {
      "cell_type": "code",
      "metadata": {
        "colab": {
          "base_uri": "https://localhost:8080/",
          "height": 241
        },
        "id": "_oZJFOkPJH5w",
        "outputId": "5b73575e-a88a-45d5-f75a-ee63c1dea2a8"
      },
      "source": [
        "fig, ax = plt.subplots(1, 4, figsize=(20, 3))\n",
        "ax = ax.ravel()\n",
        "\n",
        "for i, met in enumerate(['loss', 'accuracy', 'precision', 'recall']):\n",
        "    ax[i].plot(history_resnet.history[met])\n",
        "    ax[i].plot(history_resnet.history['val_' + met])\n",
        "    ax[i].set_title('Model {}'.format(met))\n",
        "    ax[i].set_xlabel('epochs')\n",
        "    ax[i].set_ylabel(met)\n",
        "    ax[i].legend(['train', 'val'])"
      ],
      "execution_count": null,
      "outputs": [
        {
          "output_type": "display_data",
          "data": {
            "image/png": "[encoded data removed]",
            "text/plain": [
              "<Figure size 1440x216 with 4 Axes>"
            ]
          },
          "metadata": {
            "tags": []
          }
        }
      ]
    },
    {
      "cell_type": "markdown",
      "metadata": {
        "id": "GGg3GCCZJH5w"
      },
      "source": [
        "### Predict on test set"
      ]
    },
    {
      "cell_type": "code",
      "metadata": {
        "colab": {
          "base_uri": "https://localhost:8080/"
        },
        "id": "obRpKMhkJH5w",
        "outputId": "53670cf2-e4eb-4c14-b0e6-a60d7b9076bf"
      },
      "source": [
        "loss, acc, prec, rec = resnet50.evaluate(test_batched)\n",
        "print(\"Loss of the model is - \" , loss)\n",
        "print(\"Accuracy of the model is - \" , acc*100 , \"%\")\n",
        "print(\"Precision of the model is - \" , prec)\n",
        "print(\"Recall of the model is - \" , rec)"
      ],
      "execution_count": null,
      "outputs": [
        {
          "output_type": "stream",
          "text": [
            "47/47 [==============================] - 1s 29ms/step - loss: 0.4479 - accuracy: 0.8410 - precision: 0.8564 - recall: 0.8356\n",
            "Loss of the model is -  0.44794580340385437\n",
            "Accuracy of the model is -  84.09703373908997 %\n",
            "Precision of the model is -  0.8563535809516907\n",
            "Recall of the model is -  0.835579514503479\n"
          ],
          "name": "stdout"
        }
      ]
    },
    {
      "cell_type": "markdown",
      "metadata": {
        "id": "-8PndIDwKQV2"
      },
      "source": [
        "## EfficientNet-B4\n",
        "Mingxing Tan, Quoc V. Le.\n",
        "**EfficientNet: Rethinking Model Scaling for Convolutional Neural Networks.**\n",
        "(2019)\n",
        "[Google Scholar](https://scholar.google.com/scholar?hl=en&as_sdt=0%2C5&q=EfficientNet%3A+Rethinking+Model+Scaling+for+Convolutional+Neural+Networks&btnG=)"
      ]
    },
    {
      "cell_type": "markdown",
      "metadata": {
        "id": "S0JAiLsiKQV2"
      },
      "source": [
        "### Model definition"
      ]
    },
    {
      "cell_type": "markdown",
      "metadata": {
        "id": "rhl2gxMcKQV3"
      },
      "source": [
        "Transfer learning: initalize with weights pretrained on ImageNet"
      ]
    },
    {
      "cell_type": "code",
      "metadata": {
        "id": "uOmHmSktKQV3"
      },
      "source": [
        "DENSE_KERNEL_INITIALIZER = {\n",
        "    'class_name': 'VarianceScaling',\n",
        "    'config': {\n",
        "        'scale': 1. / 3.,\n",
        "        'mode': 'fan_out',\n",
        "        'distribution': 'uniform'\n",
        "    }\n",
        "}\n",
        "\n",
        "def effnetb4_builder():\n",
        "    # load pretrained EfficientNetB4 (ImageNet) without output\n",
        "    effnet = EfficientNetB4(include_top = False,\n",
        "                       weights = 'imagenet',\n",
        "                       input_shape=(IMG_SIZE[0], IMG_SIZE[1], 3),)\n",
        "    \n",
        "    # make resnet layers trainable\n",
        "    effnet.trainable = True\n",
        "    # TODO try freeze first pretrained layers, train later layers\n",
        "    #for layer in reffnet.layers[:103]:\n",
        "    #    layer.trainable=False\n",
        "    \n",
        "    model = Sequential([\n",
        "        Input(shape=(IMG_SIZE[0], IMG_SIZE[1], 3)),\n",
        "        # add pretrained effnet layer to model\n",
        "        effnet,\n",
        "        GlobalAveragePooling2D(name='AvgPool'),\n",
        "        # add dropout (inspired by inception-resnet-v2)\n",
        "        Dropout(0.2, name='Dropout'),\n",
        "        # add classification layer for normal/pneumonia/COVID-19\n",
        "        Dense(units=3, activation='softmax', kernel_initializer=DENSE_KERNEL_INITIALIZER, name='Output'),\n",
        "    ], name='EfficientNetB4')\n",
        "    \n",
        "    return model"
      ],
      "execution_count": null,
      "outputs": []
    },
    {
      "cell_type": "code",
      "metadata": {
        "id": "0-sVA2WtKQV3"
      },
      "source": [
        "# TODO try out finding good split for trainable part\n",
        "#effnetb4.layers[0].layers[104]\n",
        "#len([layer for layer in effnetb4.layers[0].layers if isinstance(layer, keras.layers.Conv2D)])"
      ],
      "execution_count": null,
      "outputs": []
    },
    {
      "cell_type": "code",
      "metadata": {
        "id": "O3YGPtBfKQV3"
      },
      "source": [
        "effnetb4 = effnetb4_builder()\n",
        "\n",
        "METRICS = [\n",
        "    'accuracy',\n",
        "    keras.metrics.Precision(name='precision'),\n",
        "    keras.metrics.Recall(name='recall')\n",
        "]\n",
        "\n",
        "effnetb4.compile(\n",
        "    # very low learning rate to adapt pretrained weights to new data without\n",
        "    # overfitting because of small dataset\n",
        "    optimizer=Adam(lr=1e-5), # default: 1e-3\n",
        "    loss='categorical_crossentropy',\n",
        "    metrics=METRICS\n",
        ")"
      ],
      "execution_count": null,
      "outputs": []
    },
    {
      "cell_type": "code",
      "metadata": {
        "colab": {
          "base_uri": "https://localhost:8080/"
        },
        "id": "jUttmAfaKQV3",
        "outputId": "52eda220-4140-464f-f0fd-cac8a9667c32"
      },
      "source": [
        "effnetb4.summary()"
      ],
      "execution_count": null,
      "outputs": [
        {
          "output_type": "stream",
          "text": [
            "Model: \"EfficientNetB4\"\n",
            "_________________________________________________________________\n",
            "Layer (type)                 Output Shape              Param #   \n",
            "=================================================================\n",
            "efficientnetb4 (Functional)  (None, 7, 7, 1792)        17673823  \n",
            "_________________________________________________________________\n",
            "AvgPool (GlobalAveragePoolin (None, 1792)              0         \n",
            "_________________________________________________________________\n",
            "Dropout (Dropout)            (None, 1792)              0         \n",
            "_________________________________________________________________\n",
            "Output (Dense)               (None, 3)                 5379      \n",
            "=================================================================\n",
            "Total params: 17,679,202\n",
            "Trainable params: 17,553,995\n",
            "Non-trainable params: 125,207\n",
            "_________________________________________________________________\n"
          ],
          "name": "stdout"
        }
      ]
    },
    {
      "cell_type": "markdown",
      "metadata": {
        "id": "gw2HPMjrKQV4"
      },
      "source": [
        "### Training"
      ]
    },
    {
      "cell_type": "code",
      "metadata": {
        "colab": {
          "base_uri": "https://localhost:8080/"
        },
        "id": "sxHqPiBdKQV4",
        "outputId": "2e06a5bb-b8b3-4a51-8b59-64fec0ba313e"
      },
      "source": [
        "history_effnetb4 = effnetb4.fit(\n",
        "    train_batched,\n",
        "    steps_per_epoch=TRAIN_IMG_COUNT // BATCH_SIZE,\n",
        "    epochs=EPOCHS,\n",
        "    validation_data=val_batched,\n",
        "    validation_steps=VAL_IMG_COUNT // BATCH_SIZE,\n",
        "    class_weight=class_weight_dict,\n",
        "    callbacks = [learning_rate_decay, early_stopping],\n",
        ")"
      ],
      "execution_count": null,
      "outputs": [
        {
          "output_type": "stream",
          "text": [
            "Epoch 1/20\n",
            "215/215 [==============================] - 53s 248ms/step - loss: 0.2352 - accuracy: 0.9169 - precision: 0.9246 - recall: 0.9122 - val_loss: 0.8834 - val_accuracy: 0.6332 - val_precision: 0.6439 - val_recall: 0.6141\n",
            "Epoch 2/20\n",
            "215/215 [==============================] - 53s 246ms/step - loss: 0.2346 - accuracy: 0.9140 - precision: 0.9216 - recall: 0.9093 - val_loss: 0.9648 - val_accuracy: 0.6168 - val_precision: 0.6236 - val_recall: 0.6033\n",
            "Epoch 3/20\n",
            "215/215 [==============================] - 53s 247ms/step - loss: 0.2445 - accuracy: 0.9163 - precision: 0.9209 - recall: 0.9076 - val_loss: 0.3578 - val_accuracy: 0.8560 - val_precision: 0.8643 - val_recall: 0.8478\n",
            "Epoch 4/20\n",
            "215/215 [==============================] - 53s 248ms/step - loss: 0.2300 - accuracy: 0.9180 - precision: 0.9239 - recall: 0.9110 - val_loss: 0.5323 - val_accuracy: 0.7772 - val_precision: 0.7915 - val_recall: 0.7636\n",
            "Epoch 5/20\n",
            "215/215 [==============================] - 53s 247ms/step - loss: 0.2177 - accuracy: 0.9145 - precision: 0.9224 - recall: 0.9116 - val_loss: 1.1680 - val_accuracy: 0.5109 - val_precision: 0.5153 - val_recall: 0.5027\n",
            "Epoch 6/20\n",
            "215/215 [==============================] - 53s 248ms/step - loss: 0.2186 - accuracy: 0.9291 - precision: 0.9346 - recall: 0.9221 - val_loss: 0.4579 - val_accuracy: 0.8261 - val_precision: 0.8320 - val_recall: 0.8207\n"
          ],
          "name": "stdout"
        }
      ]
    },
    {
      "cell_type": "markdown",
      "metadata": {
        "id": "qnBbVRGBKQV4"
      },
      "source": [
        "### Evaluation"
      ]
    },
    {
      "cell_type": "markdown",
      "metadata": {
        "id": "_FRL7Cd1KQV5"
      },
      "source": [
        "###### Visualize performance"
      ]
    },
    {
      "cell_type": "code",
      "metadata": {
        "colab": {
          "base_uri": "https://localhost:8080/",
          "height": 241
        },
        "id": "ljZM20c4KQV5",
        "outputId": "f782cb65-d57d-473a-989a-a0d5b6d3bf27"
      },
      "source": [
        "fig, ax = plt.subplots(1, 4, figsize=(20, 3))\n",
        "ax = ax.ravel()\n",
        "\n",
        "for i, met in enumerate(['loss', 'accuracy', 'precision', 'recall']):\n",
        "    ax[i].plot(history_effnetb4.history[met])\n",
        "    ax[i].plot(history_effnetb4.history['val_' + met])\n",
        "    ax[i].set_title('Model {}'.format(met))\n",
        "    ax[i].set_xlabel('epochs')\n",
        "    ax[i].set_ylabel(met)\n",
        "    ax[i].legend(['train', 'val'])"
      ],
      "execution_count": null,
      "outputs": [
        {
          "output_type": "display_data",
          "data": {
            "image/png": "[encoded data removed]",
            "text/plain": [
              "<Figure size 1440x216 with 4 Axes>"
            ]
          },
          "metadata": {
            "tags": [],
            "needs_background": "light"
          }
        }
      ]
    },
    {
      "cell_type": "markdown",
      "metadata": {
        "id": "lf7gglC5KQV6"
      },
      "source": [
        "### Predict on test set"
      ]
    },
    {
      "cell_type": "code",
      "metadata": {
        "colab": {
          "base_uri": "https://localhost:8080/"
        },
        "id": "O-_GCx9dKQV6",
        "outputId": "dc850089-3ccc-4208-c2e4-7fb181b9a5db"
      },
      "source": [
        "loss, acc, prec, rec = effnetb4.evaluate(test_batched)\n",
        "print(\"Loss of the model is - \" , loss)\n",
        "print(\"Accuracy of the model is - \" , acc*100 , \"%\")\n",
        "print(\"Precision of the model is - \" , prec)\n",
        "print(\"Recall of the model is - \" , rec)"
      ],
      "execution_count": null,
      "outputs": [
        {
          "output_type": "stream",
          "text": [
            "47/47 [==============================] - 6s 131ms/step - loss: 0.5612 - accuracy: 0.7817 - precision: 0.8012 - recall: 0.7493\n",
            "Loss of the model is -  0.5611507892608643\n",
            "Accuracy of the model is -  78.16711664199829 %\n",
            "Precision of the model is -  0.801152765750885\n",
            "Recall of the model is -  0.7493261694908142\n"
          ],
          "name": "stdout"
        }
      ]
    },
    {
      "cell_type": "markdown",
      "metadata": {
        "id": "u2wAzFKNDqkW"
      },
      "source": [
        "## DarkNet (Based on DarkCovidNet)\n",
        "\n",
        "Tulin Ozturk, et al.\n",
        "**Automated detection of COVID-19 cases using deep neural networks with X-ray images.**\n",
        "(2020)\n",
        "[Github](https://github.com/ieee8023/covid-chestxray-dataset)\n",
        "[Google Scholar](https://scholar.google.com/scholar_lookup?title=Automated%20detection%20of%20COVID-19%20cases%20using%20deep%20neural%20networks%20with%20X-ray%20images&publication_year=2020&author=T.%20Ozturk)"
      ]
    },
    {
      "cell_type": "markdown",
      "metadata": {
        "id": "Ou4BK20QL7Qx"
      },
      "source": [
        "### Model definition"
      ]
    },
    {
      "cell_type": "markdown",
      "metadata": {
        "id": "NHyd9x1nIKqP"
      },
      "source": [
        "DarkNet block definition"
      ]
    },
    {
      "cell_type": "code",
      "metadata": {
        "id": "3kXgS5fktb70"
      },
      "source": [
        "def darknet_block(filters, kernel_size=3, strides=1):\n",
        "    block = Sequential([\n",
        "        ZeroPadding2D(padding=(1, 1)),\n",
        "        Conv2D(filters=filters, kernel_size=kernel_size, strides=strides, padding='valid', use_bias=False),\n",
        "        BatchNormalization(),\n",
        "        LeakyReLU(alpha=0.1),\n",
        "    ])\n",
        "    return block\n",
        "\n",
        "def triple_conv(prev, filters):\n",
        "    return Sequential([\n",
        "        darknet_block(filters),\n",
        "        darknet_block(prev, kernel_size=1),  \n",
        "        darknet_block(filters)\n",
        "    ])\n",
        "\n",
        "def max_pool():\n",
        "    return MaxPool2D(pool_size=(2, 2), strides=2, padding='valid')"
      ],
      "execution_count": null,
      "outputs": []
    },
    {
      "cell_type": "code",
      "metadata": {
        "id": "USJB4MewL7hw"
      },
      "source": [
        "def darknet_builder():\n",
        "    model = Sequential([\n",
        "        Input(shape=(IMG_SIZE[0], IMG_SIZE[1], 3)),\n",
        "        darknet_block(8),\n",
        "        max_pool(),\n",
        "        darknet_block(16),\n",
        "        max_pool(),\n",
        "        triple_conv(16, 32),\n",
        "        max_pool(),\n",
        "        triple_conv(32, 64),\n",
        "        max_pool(),\n",
        "        triple_conv(64, 128),\n",
        "        max_pool(),\n",
        "        triple_conv(128, 256),\n",
        "        darknet_block(128, kernel_size=1),\n",
        "        darknet_block(256),\n",
        "        darknet_block(3),\n",
        "        Flatten(),\n",
        "        Dense(units=3, activation='softmax')\n",
        "    ], name='DarkNet')\n",
        "    \n",
        "    return model"
      ],
      "execution_count": null,
      "outputs": []
    },
    {
      "cell_type": "code",
      "metadata": {
        "id": "ATnb6PQFCm9j"
      },
      "source": [
        "darknet = darknet_builder()\n",
        "\n",
        "METRICS = [\n",
        "    'accuracy',\n",
        "    keras.metrics.Precision(name='precision'),\n",
        "    keras.metrics.Recall(name='recall')\n",
        "]\n",
        "\n",
        "darknet.compile(\n",
        "    optimizer=Adam(lr=0.001), # default: 0.001\n",
        "    loss='categorical_crossentropy',\n",
        "    metrics=METRICS\n",
        ")"
      ],
      "execution_count": null,
      "outputs": []
    },
    {
      "cell_type": "code",
      "metadata": {
        "id": "NbeNGNz_oFm4",
        "colab": {
          "base_uri": "https://localhost:8080/"
        },
        "outputId": "958411d5-520b-470e-a941-cdab65df5150"
      },
      "source": [
        "darknet.summary()\n",
        "darknet.layers[4].layers[1].summary()"
      ],
      "execution_count": null,
      "outputs": [
        {
          "output_type": "stream",
          "text": [
            "Model: \"DarkNet\"\n",
            "_________________________________________________________________\n",
            "Layer (type)                 Output Shape              Param #   \n",
            "=================================================================\n",
            "sequential_2 (Sequential)    (None, 224, 224, 8)       248       \n",
            "_________________________________________________________________\n",
            "max_pooling2d_3 (MaxPooling2 (None, 112, 112, 8)       0         \n",
            "_________________________________________________________________\n",
            "sequential_3 (Sequential)    (None, 112, 112, 16)      1216      \n",
            "_________________________________________________________________\n",
            "max_pooling2d_4 (MaxPooling2 (None, 56, 56, 16)        0         \n",
            "_________________________________________________________________\n",
            "sequential_7 (Sequential)    (None, 58, 58, 32)        10048     \n",
            "_________________________________________________________________\n",
            "max_pooling2d_5 (MaxPooling2 (None, 29, 29, 32)        0         \n",
            "_________________________________________________________________\n",
            "sequential_11 (Sequential)   (None, 31, 31, 64)        39552     \n",
            "_________________________________________________________________\n",
            "max_pooling2d_6 (MaxPooling2 (None, 15, 15, 64)        0         \n",
            "_________________________________________________________________\n",
            "sequential_15 (Sequential)   (None, 17, 17, 128)       156928    \n",
            "_________________________________________________________________\n",
            "max_pooling2d_7 (MaxPooling2 (None, 8, 8, 128)         0         \n",
            "_________________________________________________________________\n",
            "sequential_19 (Sequential)   (None, 10, 10, 256)       625152    \n",
            "_________________________________________________________________\n",
            "sequential_20 (Sequential)   (None, 12, 12, 128)       33280     \n",
            "_________________________________________________________________\n",
            "sequential_21 (Sequential)   (None, 12, 12, 256)       295936    \n",
            "_________________________________________________________________\n",
            "sequential_22 (Sequential)   (None, 12, 12, 3)         6924      \n",
            "_________________________________________________________________\n",
            "flatten (Flatten)            (None, 432)               0         \n",
            "_________________________________________________________________\n",
            "dense (Dense)                (None, 3)                 1299      \n",
            "=================================================================\n",
            "Total params: 1,170,583\n",
            "Trainable params: 1,167,361\n",
            "Non-trainable params: 3,222\n",
            "_________________________________________________________________\n",
            "Model: \"sequential_5\"\n",
            "_________________________________________________________________\n",
            "Layer (type)                 Output Shape              Param #   \n",
            "=================================================================\n",
            "zero_padding2d_3 (ZeroPaddin (None, 58, 58, 32)        0         \n",
            "_________________________________________________________________\n",
            "conv2d_3 (Conv2D)            (None, 58, 58, 16)        512       \n",
            "_________________________________________________________________\n",
            "batch_normalization_3 (Batch (None, 58, 58, 16)        64        \n",
            "_________________________________________________________________\n",
            "leaky_re_lu_3 (LeakyReLU)    (None, 58, 58, 16)        0         \n",
            "=================================================================\n",
            "Total params: 576\n",
            "Trainable params: 544\n",
            "Non-trainable params: 32\n",
            "_________________________________________________________________\n"
          ],
          "name": "stdout"
        }
      ]
    },
    {
      "cell_type": "markdown",
      "metadata": {
        "id": "tjP8oSApJPeJ"
      },
      "source": [
        "### Training"
      ]
    },
    {
      "cell_type": "code",
      "metadata": {
        "id": "KvnovgAKJ5wY",
        "colab": {
          "base_uri": "https://localhost:8080/"
        },
        "outputId": "82c91c03-6554-4a3f-bd20-fa6f893cd5de"
      },
      "source": [
        "history_darknet = darknet.fit(\n",
        "    train_batched,\n",
        "    steps_per_epoch=TRAIN_IMG_COUNT // BATCH_SIZE,\n",
        "    epochs=EPOCHS,\n",
        "    validation_data=val_batched,\n",
        "    validation_steps=VAL_IMG_COUNT // BATCH_SIZE,\n",
        "    class_weight=class_weight_dict,\n",
        "    callbacks = [learning_rate_decay, early_stopping],\n",
        ")"
      ],
      "execution_count": null,
      "outputs": [
        {
          "output_type": "stream",
          "text": [
            "Epoch 1/10\n",
            "215/215 [==============================] - 20s 94ms/step - loss: 1.1122 - accuracy: 0.4186 - precision: 0.4950 - recall: 0.1453 - val_loss: 1.2696 - val_accuracy: 0.3560 - val_precision: 0.3581 - val_recall: 0.3533\n",
            "Epoch 2/10\n",
            "215/215 [==============================] - 19s 90ms/step - loss: 0.9878 - accuracy: 0.5355 - precision: 0.6267 - recall: 0.3494 - val_loss: 1.0085 - val_accuracy: 0.4701 - val_precision: 0.5357 - val_recall: 0.3668\n",
            "Epoch 3/10\n",
            "215/215 [==============================] - 19s 90ms/step - loss: 0.9199 - accuracy: 0.5727 - precision: 0.6604 - recall: 0.4500 - val_loss: 0.8613 - val_accuracy: 0.6196 - val_precision: 0.6755 - val_recall: 0.4864\n",
            "Epoch 4/10\n",
            "215/215 [==============================] - 19s 89ms/step - loss: 0.8976 - accuracy: 0.5959 - precision: 0.6846 - recall: 0.4669 - val_loss: 0.8107 - val_accuracy: 0.6359 - val_precision: 0.6667 - val_recall: 0.5761\n",
            "Epoch 5/10\n",
            "215/215 [==============================] - 19s 89ms/step - loss: 0.8478 - accuracy: 0.6390 - precision: 0.7144 - recall: 0.5279 - val_loss: 1.2040 - val_accuracy: 0.5462 - val_precision: 0.5697 - val_recall: 0.5000\n",
            "Epoch 6/10\n",
            "215/215 [==============================] - ETA: 0s - loss: 0.8455 - accuracy: 0.6360 - precision: 0.6957 - recall: 0.5209\n",
            "Epoch 00006: ReduceLROnPlateau reducing learning rate to 0.0003000000142492354.\n",
            "215/215 [==============================] - 19s 90ms/step - loss: 0.8455 - accuracy: 0.6360 - precision: 0.6957 - recall: 0.5209 - val_loss: 1.5049 - val_accuracy: 0.4565 - val_precision: 0.4756 - val_recall: 0.4239\n",
            "Epoch 7/10\n",
            "215/215 [==============================] - 19s 89ms/step - loss: 0.7542 - accuracy: 0.6936 - precision: 0.7367 - recall: 0.6134 - val_loss: 1.1511 - val_accuracy: 0.5299 - val_precision: 0.5801 - val_recall: 0.4918\n",
            "Epoch 8/10\n",
            "215/215 [==============================] - 19s 89ms/step - loss: 0.6900 - accuracy: 0.7267 - precision: 0.7709 - recall: 0.6535 - val_loss: 0.6212 - val_accuracy: 0.7527 - val_precision: 0.8356 - val_recall: 0.6630\n",
            "Epoch 9/10\n",
            "215/215 [==============================] - 19s 91ms/step - loss: 0.6780 - accuracy: 0.7267 - precision: 0.7576 - recall: 0.6558 - val_loss: 0.6512 - val_accuracy: 0.7364 - val_precision: 0.7836 - val_recall: 0.6495\n",
            "Epoch 10/10\n",
            "215/215 [==============================] - ETA: 0s - loss: 0.6523 - accuracy: 0.7308 - precision: 0.7663 - recall: 0.6750\n",
            "Epoch 00010: ReduceLROnPlateau reducing learning rate to 9.000000427477062e-05.\n",
            "215/215 [==============================] - 19s 90ms/step - loss: 0.6523 - accuracy: 0.7308 - precision: 0.7663 - recall: 0.6750 - val_loss: 1.7857 - val_accuracy: 0.3995 - val_precision: 0.4042 - val_recall: 0.3668\n"
          ],
          "name": "stdout"
        }
      ]
    },
    {
      "cell_type": "markdown",
      "metadata": {
        "id": "Dm-sYRzGIW77"
      },
      "source": [
        "### Evaluation"
      ]
    },
    {
      "cell_type": "markdown",
      "metadata": {
        "id": "AXHSohpKu0wi"
      },
      "source": [
        "###### Visualize performance"
      ]
    },
    {
      "cell_type": "code",
      "metadata": {
        "id": "wvBRu37ODLr0",
        "colab": {
          "base_uri": "https://localhost:8080/",
          "height": 241
        },
        "outputId": "fcd5f9d4-1f8a-44cd-ad06-77c181f21b6f"
      },
      "source": [
        "fig, ax = plt.subplots(1, 4, figsize=(20, 3))\n",
        "ax = ax.ravel()\n",
        "\n",
        "for i, met in enumerate(['loss', 'accuracy', 'precision', 'recall']):\n",
        "    ax[i].plot(history_darknet.history[met])\n",
        "    ax[i].plot(history_darknet.history['val_' + met])\n",
        "    ax[i].set_title('Model {}'.format(met))\n",
        "    ax[i].set_xlabel('epochs')\n",
        "    ax[i].set_ylabel(met)\n",
        "    ax[i].legend(['train', 'val'])"
      ],
      "execution_count": null,
      "outputs": [
        {
          "output_type": "display_data",
          "data": {
            "image/png": "[encoded data removed]",
            "text/plain": [
              "<Figure size 1440x216 with 4 Axes>"
            ]
          },
          "metadata": {
            "tags": []
          }
        }
      ]
    },
    {
      "cell_type": "markdown",
      "metadata": {
        "id": "GA0cPAZXu4Cs"
      },
      "source": [
        "### Predict on test set"
      ]
    },
    {
      "cell_type": "code",
      "metadata": {
        "id": "oIaB_KzBJeND",
        "colab": {
          "base_uri": "https://localhost:8080/"
        },
        "outputId": "584e6325-2ee9-4502-bd7a-e5d3ea4bd0bc"
      },
      "source": [
        "loss, acc, prec, rec = darknet.evaluate(test_batched)\n",
        "print(\"Loss of the model is - \" , loss)\n",
        "print(\"Accuracy of the model is - \" , acc*100 , \"%\")\n",
        "print(\"Precision of the model is - \" , prec)\n",
        "print(\"Recall of the model is - \" , rec)"
      ],
      "execution_count": null,
      "outputs": [
        {
          "output_type": "stream",
          "text": [
            "47/47 [==============================] - 1s 12ms/step - loss: 1.7239 - accuracy: 0.3720 - precision: 0.3720 - recall: 0.3288\n",
            "Loss of the model is -  1.7238898277282715\n",
            "Accuracy of the model is -  37.19676434993744 %\n",
            "Precision of the model is -  0.37195122241973877\n",
            "Recall of the model is -  0.328840970993042\n"
          ],
          "name": "stdout"
        }
      ]
    },
    {
      "cell_type": "code",
      "metadata": {
        "id": "JjjpVWyZscvY"
      },
      "source": [
        ""
      ],
      "execution_count": null,
      "outputs": []
    }
  ]
}